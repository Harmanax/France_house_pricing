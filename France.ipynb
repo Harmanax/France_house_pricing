{
 "cells": [
  {
   "cell_type": "code",
   "execution_count": null,
   "metadata": {},
   "outputs": [],
   "source": [
    "import pandas as pd\n",
    "import matplotlib\n",
    "import matplotlib.pyplot as plt\n",
    "import matplotlib.pylab as pylab\n",
    "import numpy as np\n",
    "import datetime\n",
    "import seaborn as sns\n",
    "import scipy\n",
    "import time\n",
    "from scipy import stats \n",
    "import googlemaps\n",
    "import re\n",
    "import math"
   ]
  },
  {
   "cell_type": "code",
   "execution_count": null,
   "metadata": {},
   "outputs": [],
   "source": [
    "from plotly import tools\n",
    "import bokeh as bok\n",
    "import plotly.plotly as py\n",
    "import plotly\n",
    "import plotly.graph_objs as go\n",
    "import pygal as pyg\n",
    "import scipy.special"
   ]
  },
  {
   "cell_type": "code",
   "execution_count": null,
   "metadata": {},
   "outputs": [],
   "source": [
    "from sklearn.model_selection import train_test_split\n",
    "from sklearn.ensemble import RandomForestRegressor\n",
    "from sklearn import preprocessing\n",
    "from sklearn import metrics\n",
    "from sklearn import linear_model\n",
    "from sklearn.ensemble import ExtraTreesRegressor\n",
    "from pygam import LinearGAM\n",
    "from sklearn.metrics import mean_squared_error\n",
    "from sklearn.model_selection import RandomizedSearchCV\n",
    "from xgboost import XGBRegressor"
   ]
  },
  {
   "cell_type": "code",
   "execution_count": null,
   "metadata": {},
   "outputs": [],
   "source": [
    "plotly.offline.init_notebook_mode(connected=False)"
   ]
  },
  {
   "cell_type": "code",
   "execution_count": null,
   "metadata": {},
   "outputs": [],
   "source": [
    "mapbox_access_token = 'XXXXXXXXXXXXXXXXXXXXXXXXXXXXXXXXXXXXXXXXXXXXXXXXXXX'"
   ]
  },
  {
   "cell_type": "code",
   "execution_count": null,
   "metadata": {},
   "outputs": [],
   "source": [
    "pd.set_option('display.max_columns', None)\n",
    "pd.set_option('display.max_rows', None)\n",
    "\n",
    "pylab.rcParams['figure.figsize'] = (20, 15)\n",
    "\n",
    "plt.style.use('ggplot')\n",
    "plt.rcParams['font.size'] = 12\n",
    "plt.rcParams['axes.labelsize'] = 11\n",
    "plt.rcParams['axes.labelweight'] = 'bold'\n",
    "plt.rcParams['axes.titlesize'] = 12\n",
    "plt.rcParams['xtick.labelsize'] = 9\n",
    "plt.rcParams['ytick.labelsize'] = 9\n",
    "plt.rcParams['legend.fontsize'] = 11\n",
    "plt.rcParams['figure.titlesize'] = 13"
   ]
  },
  {
   "cell_type": "code",
   "execution_count": null,
   "metadata": {},
   "outputs": [],
   "source": [
    "path1 = \"C:/Users/ABC1234/Documents/data/\""
   ]
  },
  {
   "cell_type": "code",
   "execution_count": null,
   "metadata": {},
   "outputs": [],
   "source": [
    "file1 = \"full2014.csv\"\n",
    "file2 = \"full2015.csv\"\n",
    "file3 = \"full2016.csv\"\n",
    "file4 = \"full2017.csv\"\n",
    "file5 = \"full2018.csv\"\n",
    "file = \"fullDVF.csv\""
   ]
  },
  {
   "cell_type": "code",
   "execution_count": null,
   "metadata": {},
   "outputs": [],
   "source": [
    "df = pd.read_csv(path1+file, sep=\";\") "
   ]
  },
  {
   "cell_type": "code",
   "execution_count": null,
   "metadata": {},
   "outputs": [],
   "source": [
    "df1= pd.read_csv(path1+file1, sep=\",\")\n",
    "df2= pd.read_csv(path1+file2, sep=\",\")\n",
    "df3= pd.read_csv(path1+file3, sep=\",\")\n",
    "df4= pd.read_csv(path1+file4, sep=\",\")\n",
    "df5= pd.read_csv(path1+file5, sep=\",\")"
   ]
  },
  {
   "cell_type": "code",
   "execution_count": null,
   "metadata": {},
   "outputs": [],
   "source": [
    "df1= pd.read_csv(path1+file1, sep=\",\")"
   ]
  },
  {
   "cell_type": "code",
   "execution_count": null,
   "metadata": {},
   "outputs": [],
   "source": [
    "dflite = df.sample(frac=0.01)"
   ]
  },
  {
   "cell_type": "code",
   "execution_count": null,
   "metadata": {},
   "outputs": [],
   "source": [
    "dflite.head()"
   ]
  },
  {
   "cell_type": "code",
   "execution_count": null,
   "metadata": {},
   "outputs": [],
   "source": [
    "df1.isna().sum()"
   ]
  },
  {
   "cell_type": "code",
   "execution_count": null,
   "metadata": {},
   "outputs": [],
   "source": [
    "df2.isna().sum()"
   ]
  },
  {
   "cell_type": "code",
   "execution_count": null,
   "metadata": {},
   "outputs": [],
   "source": [
    "df3.isna().sum()"
   ]
  },
  {
   "cell_type": "code",
   "execution_count": null,
   "metadata": {},
   "outputs": [],
   "source": [
    "df4.isna().sum()"
   ]
  },
  {
   "cell_type": "code",
   "execution_count": null,
   "metadata": {},
   "outputs": [],
   "source": [
    "df5.isna().sum()"
   ]
  },
  {
   "cell_type": "code",
   "execution_count": null,
   "metadata": {},
   "outputs": [],
   "source": [
    "df1.isnull().sum()/(len(df1))"
   ]
  },
  {
   "cell_type": "code",
   "execution_count": null,
   "metadata": {},
   "outputs": [],
   "source": [
    "sns.heatmap(dflite.isnull(), cbar=False)\n",
    "plt.show()"
   ]
  },
  {
   "cell_type": "code",
   "execution_count": null,
   "metadata": {},
   "outputs": [],
   "source": [
    "len(df)"
   ]
  },
  {
   "cell_type": "markdown",
   "metadata": {},
   "source": [
    "# on remplit les natures cultures AB\n",
    "\n",
    "#### pour cette catégorie uniquement la valeur associée est manquante"
   ]
  },
  {
   "cell_type": "code",
   "execution_count": null,
   "metadata": {},
   "outputs": [],
   "source": [
    "def terAB(line):\n",
    "    if (line[\"code_nature_culture\"] == \"AB\"):\n",
    "        toto = \"terrains a bâtir\"\n",
    "    else: \n",
    "        toto = line[\"nature_culture\"]\n",
    "    return toto"
   ]
  },
  {
   "cell_type": "code",
   "execution_count": null,
   "metadata": {},
   "outputs": [],
   "source": [
    "df1['nature_culture'] = df1.apply(terAB, axis=1)"
   ]
  },
  {
   "cell_type": "code",
   "execution_count": null,
   "metadata": {},
   "outputs": [],
   "source": [
    "df2['nature_culture'] = df2.apply(terAB, axis=1)"
   ]
  },
  {
   "cell_type": "code",
   "execution_count": null,
   "metadata": {},
   "outputs": [],
   "source": [
    "df3['nature_culture'] = df3.apply(terAB, axis=1)"
   ]
  },
  {
   "cell_type": "code",
   "execution_count": null,
   "metadata": {},
   "outputs": [],
   "source": [
    "df4['nature_culture'] = df4.apply(terAB, axis=1)"
   ]
  },
  {
   "cell_type": "code",
   "execution_count": null,
   "metadata": {},
   "outputs": [],
   "source": [
    "df5['nature_culture'] = df5.apply(terAB, axis=1)"
   ]
  },
  {
   "cell_type": "code",
   "execution_count": null,
   "metadata": {},
   "outputs": [],
   "source": [
    "df1['code_type_local'] = df1['code_type_local'].fillna(5)\n",
    "df1['type_local'] = df1['type_local'].fillna(\"Terrain simple\")\n",
    "df2['code_type_local'] = df2['code_type_local'].fillna(5)\n",
    "df2['type_local'] = df2['type_local'].fillna(\"Terrain simple\")\n",
    "df3['code_type_local'] = df3['code_type_local'].fillna(5)\n",
    "df3['type_local'] = df3['type_local'].fillna(\"Terrain simple\")\n",
    "df4['code_type_local'] = df4['code_type_local'].fillna(5)\n",
    "df4['type_local'] = df4['type_local'].fillna(\"Terrain simple\")\n",
    "df5['code_type_local'] = df5['code_type_local'].fillna(5)\n",
    "df5['type_local'] = df5['type_local'].fillna(\"Terrain simple\")"
   ]
  },
  {
   "cell_type": "code",
   "execution_count": null,
   "metadata": {},
   "outputs": [],
   "source": [
    "df1['code_nature_culture'] = df1['code_nature_culture'].fillna(\"N\")\n",
    "df1['nature_culture'] = df1['nature_culture'].fillna(\"sans_terrain\")\n",
    "df2['code_nature_culture'] = df2['code_nature_culture'].fillna(\"N\")\n",
    "df2['nature_culture'] = df2['nature_culture'].fillna(\"sans_terrain\")\n",
    "df3['code_nature_culture'] = df3['code_nature_culture'].fillna(\"N\")\n",
    "df3['nature_culture'] = df3['nature_culture'].fillna(\"sans_terrain\")\n",
    "df4['code_nature_culture'] = df4['code_nature_culture'].fillna(\"N\")\n",
    "df4['nature_culture'] = df4['nature_culture'].fillna(\"sans_terrain\")\n",
    "df5['code_nature_culture'] = df5['code_nature_culture'].fillna(\"N\")\n",
    "df5['nature_culture'] = df5['nature_culture'].fillna(\"sans_terrain\")"
   ]
  },
  {
   "cell_type": "markdown",
   "metadata": {},
   "source": [
    "# fin du passage nature_culture AB"
   ]
  },
  {
   "cell_type": "markdown",
   "metadata": {},
   "source": [
    "# début de l'association des nouvelles régions aux datasets des 5 années"
   ]
  },
  {
   "cell_type": "code",
   "execution_count": null,
   "metadata": {},
   "outputs": [],
   "source": [
    "dfreg = pd.read_excel(path1+\"corr_dep_reg.xlsx\")"
   ]
  },
  {
   "cell_type": "code",
   "execution_count": null,
   "metadata": {},
   "outputs": [],
   "source": [
    "dfreg = dfreg.drop(['Département'], axis=1)\n",
    "dfreg = dfreg.drop(['Indicatif Téléphonique '], axis=1)\n",
    "dfreg = dfreg.drop(['Ancienne Région'], axis=1)\n",
    "dfreg = dfreg.drop(['Zone Vacances'], axis=1)\n",
    "dfreg = dfreg.drop(['Métropole'], axis=1)"
   ]
  },
  {
   "cell_type": "code",
   "execution_count": null,
   "metadata": {},
   "outputs": [],
   "source": [
    "dfreg.head()"
   ]
  },
  {
   "cell_type": "code",
   "execution_count": null,
   "metadata": {},
   "outputs": [],
   "source": [
    "dfreg['Code Postal']=dfreg['Code Postal'].apply(lambda x: '{0:0>2}'.format(x))"
   ]
  },
  {
   "cell_type": "code",
   "execution_count": null,
   "metadata": {},
   "outputs": [],
   "source": [
    "dfreg = dfreg.rename(index=str, columns={\"Code Postal\": \"code_departement\"})"
   ]
  },
  {
   "cell_type": "code",
   "execution_count": null,
   "metadata": {},
   "outputs": [],
   "source": [
    "dfreg['code_departement']=dfreg['code_departement'].apply(lambda x: '{0:0>2}'.format(x))"
   ]
  },
  {
   "cell_type": "code",
   "execution_count": null,
   "metadata": {},
   "outputs": [],
   "source": [
    "df1['code_departement']=df1['code_departement'].apply(lambda x: '{0:0>2}'.format(x))\n",
    "df2['code_departement']=df2['code_departement'].apply(lambda x: '{0:0>2}'.format(x))\n",
    "df3['code_departement']=df3['code_departement'].apply(lambda x: '{0:0>2}'.format(x))\n",
    "df4['code_departement']=df4['code_departement'].apply(lambda x: '{0:0>2}'.format(x))\n",
    "df5['code_departement']=df5['code_departement'].apply(lambda x: '{0:0>2}'.format(x))"
   ]
  },
  {
   "cell_type": "code",
   "execution_count": null,
   "metadata": {},
   "outputs": [],
   "source": [
    "df1 = pd.merge(df1, dfreg, how='left', left_on=['code_departement'], right_on=['code_departement'])"
   ]
  },
  {
   "cell_type": "code",
   "execution_count": null,
   "metadata": {},
   "outputs": [],
   "source": [
    "df2 = pd.merge(df2, dfreg, how='left', left_on=['code_departement'], right_on=['code_departement'])"
   ]
  },
  {
   "cell_type": "code",
   "execution_count": null,
   "metadata": {},
   "outputs": [],
   "source": [
    "df3 = pd.merge(df3, dfreg, how='left', left_on=['code_departement'], right_on=['code_departement'])"
   ]
  },
  {
   "cell_type": "code",
   "execution_count": null,
   "metadata": {},
   "outputs": [],
   "source": [
    "df4 = pd.merge(df4, dfreg, how='left', left_on=['code_departement'], right_on=['code_departement'])"
   ]
  },
  {
   "cell_type": "code",
   "execution_count": null,
   "metadata": {},
   "outputs": [],
   "source": [
    "df5 = pd.merge(df5, dfreg, how='left', left_on=['code_departement'], right_on=['code_departement'])"
   ]
  },
  {
   "cell_type": "markdown",
   "metadata": {},
   "source": [
    "# fin de l'association des nouvelles régions aux datasets des 5 années"
   ]
  },
  {
   "cell_type": "markdown",
   "metadata": {},
   "source": [
    "# début du dummy des type_local et nature_culture"
   ]
  },
  {
   "cell_type": "code",
   "execution_count": null,
   "metadata": {},
   "outputs": [],
   "source": [
    "df1dumlocal = pd.get_dummies(df1['type_local'])"
   ]
  },
  {
   "cell_type": "code",
   "execution_count": null,
   "metadata": {},
   "outputs": [],
   "source": [
    "df1dumnature = pd.get_dummies(df1['nature_culture'])"
   ]
  },
  {
   "cell_type": "code",
   "execution_count": null,
   "metadata": {},
   "outputs": [],
   "source": [
    "df1 = pd.concat([df1, df1dumlocal], axis=1)"
   ]
  },
  {
   "cell_type": "code",
   "execution_count": null,
   "metadata": {},
   "outputs": [],
   "source": [
    "df1 = pd.concat([df1, df1dumnature], axis=1)"
   ]
  },
  {
   "cell_type": "code",
   "execution_count": null,
   "metadata": {},
   "outputs": [],
   "source": [
    "df2dumlocal = pd.get_dummies(df2['type_local'])\n",
    "df2dumnature = pd.get_dummies(df2['nature_culture'])"
   ]
  },
  {
   "cell_type": "code",
   "execution_count": null,
   "metadata": {},
   "outputs": [],
   "source": [
    "df2 = pd.concat([df2, df2dumlocal], axis=1)\n",
    "df2 = pd.concat([df2, df2dumnature], axis=1)"
   ]
  },
  {
   "cell_type": "code",
   "execution_count": null,
   "metadata": {},
   "outputs": [],
   "source": [
    "df3dumlocal = pd.get_dummies(df3['type_local'])\n",
    "df3dumnature = pd.get_dummies(df3['nature_culture'])"
   ]
  },
  {
   "cell_type": "code",
   "execution_count": null,
   "metadata": {},
   "outputs": [],
   "source": [
    "df3 = pd.concat([df3, df3dumlocal], axis=1)\n",
    "df3 = pd.concat([df3, df3dumnature], axis=1)"
   ]
  },
  {
   "cell_type": "code",
   "execution_count": null,
   "metadata": {},
   "outputs": [],
   "source": [
    "df4dumlocal = pd.get_dummies(df4['type_local'])\n",
    "df4dumnature = pd.get_dummies(df4['nature_culture'])"
   ]
  },
  {
   "cell_type": "code",
   "execution_count": null,
   "metadata": {},
   "outputs": [],
   "source": [
    "df4 = pd.concat([df4, df4dumlocal], axis=1)\n",
    "df4 = pd.concat([df4, df4dumnature], axis=1)"
   ]
  },
  {
   "cell_type": "code",
   "execution_count": null,
   "metadata": {},
   "outputs": [],
   "source": [
    "df5dumlocal = pd.get_dummies(df5['type_local'])\n",
    "df5dumnature = pd.get_dummies(df5['nature_culture'])"
   ]
  },
  {
   "cell_type": "code",
   "execution_count": null,
   "metadata": {},
   "outputs": [],
   "source": [
    "df5 = pd.concat([df5, df5dumlocal], axis=1)\n",
    "df5 = pd.concat([df5, df5dumnature], axis=1)"
   ]
  },
  {
   "cell_type": "markdown",
   "metadata": {},
   "source": [
    "# fin dummy"
   ]
  },
  {
   "cell_type": "code",
   "execution_count": null,
   "metadata": {},
   "outputs": [],
   "source": []
  },
  {
   "cell_type": "markdown",
   "metadata": {},
   "source": [
    "# détails de chaque data set (1 part année)"
   ]
  },
  {
   "cell_type": "code",
   "execution_count": null,
   "metadata": {},
   "outputs": [],
   "source": [
    "print(\"année 2014 nb ligne : \" + str(len(df1)))\n",
    "print(\"année 2015 nb ligne : \" + str(len(df2)))\n",
    "print(\"année 2016 nb ligne : \" + str(len(df3)))\n",
    "print(\"année 2017 nb ligne : \" + str(len(df4)))\n",
    "print(\"année 2018 nb ligne : \" + str(len(df5)))"
   ]
  },
  {
   "cell_type": "code",
   "execution_count": null,
   "metadata": {},
   "outputs": [],
   "source": [
    "colu = {'Years': ['2014','2015','2016','2017', '2018'],\n",
    "        'Line_Numbers': [2516689,2749831,2936525,3361074, 2339003],\n",
    "        'Column_Numbers': [40, 40, 40 , 40, 40]\n",
    "        }\n",
    "\n",
    "dfnbr = pd.DataFrame(colu,columns= ['Years', 'Line_Numbers', 'Column_Numbers'])"
   ]
  },
  {
   "cell_type": "code",
   "execution_count": null,
   "metadata": {},
   "outputs": [],
   "source": []
  },
  {
   "cell_type": "code",
   "execution_count": null,
   "metadata": {},
   "outputs": [],
   "source": [
    "df1['type_local'].value_counts()"
   ]
  },
  {
   "cell_type": "code",
   "execution_count": null,
   "metadata": {},
   "outputs": [],
   "source": [
    "df2['type_local'].value_counts()"
   ]
  },
  {
   "cell_type": "code",
   "execution_count": null,
   "metadata": {},
   "outputs": [],
   "source": [
    "df3['type_local'].value_counts()"
   ]
  },
  {
   "cell_type": "code",
   "execution_count": null,
   "metadata": {},
   "outputs": [],
   "source": [
    "df4['type_local'].value_counts()"
   ]
  },
  {
   "cell_type": "code",
   "execution_count": null,
   "metadata": {},
   "outputs": [],
   "source": [
    "df5['type_local'].value_counts()"
   ]
  },
  {
   "cell_type": "code",
   "execution_count": null,
   "metadata": {},
   "outputs": [],
   "source": [
    "df1[df1[\"Nouvelle Région\"]== \"Ile-de-France\"].head()"
   ]
  },
  {
   "cell_type": "markdown",
   "metadata": {},
   "source": [
    "# fin détail"
   ]
  },
  {
   "cell_type": "markdown",
   "metadata": {},
   "source": [
    "# début regroupement des datasets sur l'Ile de France"
   ]
  },
  {
   "cell_type": "code",
   "execution_count": null,
   "metadata": {},
   "outputs": [],
   "source": [
    "df1idf = df1[df1[\"Nouvelle Région\"]== \"Ile-de-France\"]"
   ]
  },
  {
   "cell_type": "code",
   "execution_count": null,
   "metadata": {},
   "outputs": [],
   "source": [
    "df2idf = df2[df2[\"Nouvelle Région\"]== \"Ile-de-France\"]"
   ]
  },
  {
   "cell_type": "code",
   "execution_count": null,
   "metadata": {},
   "outputs": [],
   "source": [
    "df3idf = df3[df3[\"Nouvelle Région\"]== \"Ile-de-France\"]"
   ]
  },
  {
   "cell_type": "code",
   "execution_count": null,
   "metadata": {},
   "outputs": [],
   "source": [
    "df4idf = df4[df4[\"Nouvelle Région\"]== \"Ile-de-France\"]"
   ]
  },
  {
   "cell_type": "code",
   "execution_count": null,
   "metadata": {},
   "outputs": [],
   "source": [
    "df5idf = df5[df5[\"Nouvelle Région\"]== \"Ile-de-France\"]"
   ]
  },
  {
   "cell_type": "code",
   "execution_count": null,
   "metadata": {},
   "outputs": [],
   "source": [
    "dfidf = df[df[\"Nouvelle Région\"]== \"Ile-de-France\"]"
   ]
  },
  {
   "cell_type": "code",
   "execution_count": null,
   "metadata": {},
   "outputs": [],
   "source": [
    "#dfidf = pd.concat([df1idf, df2idf], axis=0)"
   ]
  },
  {
   "cell_type": "code",
   "execution_count": null,
   "metadata": {},
   "outputs": [],
   "source": [
    "#dfidf = pd.concat([dfidf, df3idf], axis=0)"
   ]
  },
  {
   "cell_type": "code",
   "execution_count": null,
   "metadata": {},
   "outputs": [],
   "source": [
    "#dfidf = pd.concat([dfidf, df4idf], axis=0)"
   ]
  },
  {
   "cell_type": "code",
   "execution_count": null,
   "metadata": {
    "scrolled": true
   },
   "outputs": [],
   "source": [
    "#dfidf = pd.concat([dfidf, df5idf], axis=0)"
   ]
  },
  {
   "cell_type": "code",
   "execution_count": null,
   "metadata": {},
   "outputs": [],
   "source": [
    "dfidf.shape"
   ]
  },
  {
   "cell_type": "code",
   "execution_count": null,
   "metadata": {},
   "outputs": [],
   "source": [
    "dfidf.head()"
   ]
  },
  {
   "cell_type": "markdown",
   "metadata": {},
   "source": [
    "# fin du regroupement IDF"
   ]
  },
  {
   "cell_type": "markdown",
   "metadata": {},
   "source": [
    "# transformation/merge en un unique dataframe\n",
    "\n",
    "#### élaboration d'une méthode pour éviter la redondance d'information sur les lignes dites \"dupliquées\""
   ]
  },
  {
   "cell_type": "code",
   "execution_count": null,
   "metadata": {},
   "outputs": [],
   "source": [
    "df_full = df1.append(df2)"
   ]
  },
  {
   "cell_type": "code",
   "execution_count": null,
   "metadata": {},
   "outputs": [],
   "source": [
    "df_full = df_full.append(df3)"
   ]
  },
  {
   "cell_type": "code",
   "execution_count": null,
   "metadata": {},
   "outputs": [],
   "source": [
    "df_full = df_full.append(df4)"
   ]
  },
  {
   "cell_type": "code",
   "execution_count": null,
   "metadata": {},
   "outputs": [],
   "source": [
    "df_full = df_full.append(df5)"
   ]
  },
  {
   "cell_type": "code",
   "execution_count": null,
   "metadata": {},
   "outputs": [],
   "source": [
    "# nettoyage de certaines colonnes : remplace NaN par 0\n",
    "put0 = ['valeur_fonciere', 'nombre_lots', 'surface_reelle_bati','surface_terrain', 'nombre_pieces_principales']\n",
    "for c in put0:\n",
    "    df_full[c] = df_full[c].fillna(0)"
   ]
  },
  {
   "cell_type": "code",
   "execution_count": null,
   "metadata": {},
   "outputs": [],
   "source": [
    "#df_full['code_type_local'] = df_full['code_type_local'].fillna(5)\n",
    "#df_full['type_local'] = df_full['type_local'].fillna(\"terrain\")"
   ]
  },
  {
   "cell_type": "code",
   "execution_count": null,
   "metadata": {},
   "outputs": [],
   "source": [
    "df_full.code_type_local = df_full.code_type_local.apply(int)\n",
    "df_full.nombre_pieces_principales = df_full.nombre_pieces_principales.apply(int)"
   ]
  },
  {
   "cell_type": "code",
   "execution_count": null,
   "metadata": {},
   "outputs": [],
   "source": [
    "df_full[\"code_type_local\"] = df_full[\"code_type_local\"].replace(3, 6)"
   ]
  },
  {
   "cell_type": "code",
   "execution_count": null,
   "metadata": {},
   "outputs": [],
   "source": [
    "df_full.head()"
   ]
  },
  {
   "cell_type": "code",
   "execution_count": null,
   "metadata": {},
   "outputs": [],
   "source": [
    "df_full.sort_values([\"id_mutation\", \"code_type_local\"], axis=0, \n",
    "                 ascending=True, inplace=True) "
   ]
  },
  {
   "cell_type": "code",
   "execution_count": null,
   "metadata": {},
   "outputs": [],
   "source": [
    "sommes = df_full.groupby(by=['id_mutation'], sort=False)[\n",
    "    'valeur_fonciere', 'nombre_lots','surface_reelle_bati','surface_terrain','nombre_pieces_principales', \n",
    "    \"Appartement\", \"Dépendance\", \"Local industriel. commercial ou assimilé\", \"Maison\", \"Terrain simple\",\n",
    "    \"bois\", \"carrières\", \"chemin de fer\", \"eaux\", \"futaies feuillues\", \"futaies mixtes\", \"futaies résineuses\",\n",
    "    \"herbages\", \"jardins\", \"landes\", \"landes boisées\", \"oseraies\", \"pacages\", \"peupleraies\", \"prés\",\n",
    "    \"prés d'embouche\", \"prés plantes\", \"pâtures\", \"sols\", \"taillis simples\", \"taillis sous futaie\", \n",
    "    \"terrains a bâtir\", \"terrains d'agrément\", \"terres\", \"terres plantées\",\"vergers\", \"vignes\"\n",
    "].sum()\n",
    "sommes.head(10)"
   ]
  },
  {
   "cell_type": "code",
   "execution_count": null,
   "metadata": {},
   "outputs": [],
   "source": [
    "comptes = df_full.groupby(by=['id_mutation'], sort=False)['id_parcelle'].count()\n",
    "comptes.head(10)"
   ]
  },
  {
   "cell_type": "code",
   "execution_count": null,
   "metadata": {},
   "outputs": [],
   "source": [
    "# on dédoublonne le dataframe, en conservant seulement la première ligne selon id_mutation\n",
    "df_uniq = df_full.drop_duplicates(subset={'id_mutation'}, keep='first')"
   ]
  },
  {
   "cell_type": "code",
   "execution_count": null,
   "metadata": {},
   "outputs": [],
   "source": [
    "# on ajoute les colonnes des sommes calculées au dataframe dédoublonné\n",
    "df = df_uniq.join(sommes, how='inner', on=['id_mutation'], rsuffix=('_sum'), sort=False)\n",
    "df = df.join(comptes, how='inner', on=['id_mutation'], rsuffix=('_nbr'), sort=False)"
   ]
  },
  {
   "cell_type": "code",
   "execution_count": null,
   "metadata": {},
   "outputs": [],
   "source": [
    "# affiche le nombre de lignes résultantes\n",
    "print(\"Nombre total de lignes:\", len(df))"
   ]
  },
  {
   "cell_type": "code",
   "execution_count": null,
   "metadata": {},
   "outputs": [],
   "source": [
    "df.head()"
   ]
  },
  {
   "cell_type": "code",
   "execution_count": null,
   "metadata": {},
   "outputs": [],
   "source": [
    "df.rename(columns={'id_parcelle_nbr': 'old_nbr_id_ligne'}, inplace=True)"
   ]
  },
  {
   "cell_type": "code",
   "execution_count": null,
   "metadata": {},
   "outputs": [],
   "source": [
    "to_drop = ['ancien_code_commune', 'ancien_nom_commune', 'ancien_id_parcelle',\n",
    "          'numero_volume', 'lot1_surface_carrez', 'lot2_numero', 'lot2_surface_carrez',\n",
    "          'lot3_numero', 'lot3_surface_carrez', 'lot4_numero', 'lot4_surface_carrez',\n",
    "          'lot5_numero', 'lot5_surface_carrez', 'code_nature_culture_speciale', 'nature_culture_speciale', \n",
    "          'valeur_fonciere_sum', 'nombre_lots', 'surface_reelle_bati', 'surface_terrain', 'nombre_pieces_principales',\n",
    "          \"Appartement\", \"Dépendance\", \"Local industriel. commercial ou assimilé\", \"Maison\", \"Terrain simple\",\n",
    "          \"bois\", \"carrières\", \"chemin de fer\", \"eaux\", \"futaies feuillues\", \"futaies mixtes\", \"futaies résineuses\",\n",
    "          \"herbages\", \"jardins\", \"landes\", \"landes boisées\", \"oseraies\", \"pacages\", \"peupleraies\", \"prés\",\n",
    "          \"prés d'embouche\", \"prés plantes\", \"pâtures\", \"sols\", \"taillis simples\", \"taillis sous futaie\", \n",
    "          \"terrains a bâtir\", \"terrains d'agrément\", \"terres\", \"terres plantées\",\"vergers\", \"vignes\"]\n",
    "df = df.drop(columns=to_drop, axis='1')\n"
   ]
  },
  {
   "cell_type": "code",
   "execution_count": null,
   "metadata": {},
   "outputs": [],
   "source": [
    "df.Appartement_sum = df.Appartement_sum.apply(int)\n",
    "df.Dépendance_sum = df.Dépendance_sum.apply(int)\n",
    "df[\"Local industriel. commercial ou assimilé_sum\"] = df[\"Local industriel. commercial ou assimilé_sum\"].apply(int)\n",
    "df.Maison_sum = df.Maison_sum.apply(int)\n",
    "df[\"Terrain simple_sum\"] = df[\"Terrain simple_sum\"].apply(int)\n",
    "df.bois_sum = df.bois_sum.apply(int)\n",
    "df.carrières_sum = df.carrières_sum.apply(int)\n",
    "df[\"chemin de fer_sum\"] = df[\"chemin de fer_sum\"].apply(int)\n",
    "df.eaux_sum = df.eaux_sum.apply(int)\n",
    "df[\"futaies feuillues_sum\"] = df[\"futaies feuillues_sum\"].apply(int)\n",
    "df[\"futaies mixtes_sum\"] = df[\"futaies mixtes_sum\"].apply(int)\n",
    "df[\"futaies résineuses_sum\"] = df[\"futaies résineuses_sum\"].apply(int)\n",
    "df.herbages_sum = df.herbages_sum.apply(int)\n",
    "df.jardins_sum = df.jardins_sum.apply(int)\n",
    "df.landes_sum = df.landes_sum.apply(int)\n",
    "df[\"landes boisées_sum\"] = df[\"landes boisées_sum\"].apply(int)\n",
    "df.oseraies_sum = df.oseraies_sum.apply(int)\n",
    "df.pacages_sum = df.pacages_sum.apply(int)\n",
    "df.peupleraies_sum = df.peupleraies_sum.apply(int)\n",
    "df.prés_sum = df.prés_sum.apply(int)\n",
    "df[\"prés d'embouche_sum\"] = df[\"prés d'embouche_sum\"].apply(int)\n",
    "df[\"prés plantes_sum\"] = df[\"prés plantes_sum\"].apply(int)\n",
    "df.pâtures_sum = df.pâtures_sum.apply(int)\n",
    "df.sols_sum = df.sols_sum.apply(int)\n",
    "df[\"taillis simples_sum\"] = df[\"taillis simples_sum\"].apply(int)\n",
    "df[\"taillis sous futaie_sum\"] = df[\"taillis sous futaie_sum\"].apply(int)\n",
    "df[\"terrains a bâtir_sum\"] = df[\"terrains a bâtir_sum\"].apply(int)\n",
    "df[\"terrains d'agrément_sum\"] = df[\"terrains d'agrément_sum\"].apply(int)\n",
    "df.terres_sum = df.terres_sum.apply(int)\n",
    "df[\"terres plantées_sum\"] = df[\"terres plantées_sum\"].apply(int)\n",
    "df.vergers_sum = df.vergers_sum.apply(int)\n",
    "df.vignes_sum = df.vignes_sum.apply(int)"
   ]
  },
  {
   "cell_type": "code",
   "execution_count": null,
   "metadata": {},
   "outputs": [],
   "source": [
    "df[df[\"id_mutation\"] == \"2014-22970\"]"
   ]
  },
  {
   "cell_type": "code",
   "execution_count": null,
   "metadata": {},
   "outputs": [],
   "source": [
    "df.to_csv(\"fullDVF.csv\", sep=';', index=False)"
   ]
  },
  {
   "cell_type": "markdown",
   "metadata": {},
   "source": [
    "# Fin du merge"
   ]
  },
  {
   "cell_type": "code",
   "execution_count": null,
   "metadata": {},
   "outputs": [],
   "source": [
    "df.head()"
   ]
  },
  {
   "cell_type": "markdown",
   "metadata": {},
   "source": [
    "# \"séparation\" du mois et de l'année pour avoir une date plus facilement utilisable en représentation"
   ]
  },
  {
   "cell_type": "code",
   "execution_count": null,
   "metadata": {},
   "outputs": [],
   "source": [
    "df['date_mutation'] = pd.to_datetime(df['date_mutation'], format=\"%Y-%m-%d\")"
   ]
  },
  {
   "cell_type": "code",
   "execution_count": null,
   "metadata": {},
   "outputs": [],
   "source": [
    "df['Month'] = df['date_mutation'].dt.month\n",
    "df['Year'] = df['date_mutation'].dt.year"
   ]
  },
  {
   "cell_type": "markdown",
   "metadata": {},
   "source": [
    "# fin séparation"
   ]
  },
  {
   "cell_type": "markdown",
   "metadata": {},
   "source": [
    "# ajout de la valeur m² au data set"
   ]
  },
  {
   "cell_type": "code",
   "execution_count": null,
   "metadata": {},
   "outputs": [],
   "source": [
    "def mcarre(line):\n",
    "    if (np.isnan(line['surface_reelle_bati_sum']) or line['surface_reelle_bati_sum'] == 0 ):\n",
    "        if (np.isnan(line['surface_terrain_sum']) or line['surface_terrain_sum'] == 0 ):\n",
    "            val = None\n",
    "        else:\n",
    "            val = (line['valeur_fonciere']/line['surface_terrain_sum'])\n",
    "    else:\n",
    "        val = (line['valeur_fonciere']/line['surface_reelle_bati_sum'])\n",
    "    return val"
   ]
  },
  {
   "cell_type": "code",
   "execution_count": null,
   "metadata": {},
   "outputs": [],
   "source": []
  },
  {
   "cell_type": "code",
   "execution_count": null,
   "metadata": {},
   "outputs": [],
   "source": [
    "dfidf['mcarre'] = dfidf.apply(mcarre, axis=1)"
   ]
  },
  {
   "cell_type": "code",
   "execution_count": null,
   "metadata": {},
   "outputs": [],
   "source": [
    "df['mcarre'] = df.apply(mcarre, axis=1)"
   ]
  },
  {
   "cell_type": "markdown",
   "metadata": {},
   "source": [
    "#### ajout du m2 moyen en fonction du CP pour avoir une tendance par zone"
   ]
  },
  {
   "cell_type": "code",
   "execution_count": null,
   "metadata": {},
   "outputs": [],
   "source": [
    "df = df.join(df.groupby('code_postal')['mcarre'].median(), on='code_postal', rsuffix='2')"
   ]
  },
  {
   "cell_type": "code",
   "execution_count": null,
   "metadata": {},
   "outputs": [],
   "source": [
    "dfidf = dfidf.join(dfidf.groupby('code_postal')['mcarre'].median(), on='code_postal', rsuffix='2')"
   ]
  },
  {
   "cell_type": "markdown",
   "metadata": {},
   "source": [
    "# fin de l'ajout"
   ]
  },
  {
   "cell_type": "code",
   "execution_count": null,
   "metadata": {},
   "outputs": [],
   "source": [
    "dfidf.head()"
   ]
  },
  {
   "cell_type": "code",
   "execution_count": null,
   "metadata": {},
   "outputs": [],
   "source": [
    "dfidf.shape"
   ]
  },
  {
   "cell_type": "code",
   "execution_count": null,
   "metadata": {},
   "outputs": [],
   "source": [
    "dfidf = dfidf.dropna()"
   ]
  },
  {
   "cell_type": "code",
   "execution_count": null,
   "metadata": {},
   "outputs": [],
   "source": [
    "dfidf.shape"
   ]
  },
  {
   "cell_type": "code",
   "execution_count": null,
   "metadata": {},
   "outputs": [],
   "source": []
  },
  {
   "cell_type": "code",
   "execution_count": null,
   "metadata": {},
   "outputs": [],
   "source": [
    "dfidf.valeur_fonciere.mean()"
   ]
  },
  {
   "cell_type": "code",
   "execution_count": null,
   "metadata": {},
   "outputs": [],
   "source": [
    "dfidf.valeur_fonciere.median()"
   ]
  },
  {
   "cell_type": "code",
   "execution_count": null,
   "metadata": {},
   "outputs": [],
   "source": [
    "plt.rcParams['xtick.labelsize'] = 18\n",
    "plt.rcParams['ytick.labelsize'] = 18\n",
    "\n",
    "plt.bar(x=dfnbr.Year, height=dfnbr.Line_Number)\n",
    "for a,b in zip(dfnbr.Year, dfnbr.Line_Number):\n",
    "    plt.text(a, b, str(b), fontsize=20)\n",
    "\n",
    "plt.show()"
   ]
  },
  {
   "cell_type": "code",
   "execution_count": null,
   "metadata": {},
   "outputs": [],
   "source": [
    "sns.countplot(df1[\"type_local\"], hue=df1[\"nature_culture\"])\n",
    "plt.show()"
   ]
  },
  {
   "cell_type": "code",
   "execution_count": null,
   "metadata": {
    "scrolled": false
   },
   "outputs": [],
   "source": [
    "regxliq = pd.crosstab(df1['nature_culture'], df1['type_local'])\n",
    "print(regxliq)"
   ]
  },
  {
   "cell_type": "code",
   "execution_count": null,
   "metadata": {},
   "outputs": [],
   "source": [
    "sns.countplot(df1[\"type_local\"], hue=df1[\"code_nature_culture\"])\n",
    "plt.show()"
   ]
  },
  {
   "cell_type": "code",
   "execution_count": null,
   "metadata": {},
   "outputs": [],
   "source": [
    "sns.countplot(df[\"type_local\"], hue=df[\"code_nature_culture\"])\n",
    "plt.show()"
   ]
  },
  {
   "cell_type": "code",
   "execution_count": null,
   "metadata": {},
   "outputs": [],
   "source": [
    "dflite = df1.sample(frac=0.05)"
   ]
  },
  {
   "cell_type": "code",
   "execution_count": null,
   "metadata": {},
   "outputs": [],
   "source": [
    "dflite.head()"
   ]
  },
  {
   "cell_type": "code",
   "execution_count": null,
   "metadata": {},
   "outputs": [],
   "source": [
    "dfidf.head()"
   ]
  },
  {
   "cell_type": "code",
   "execution_count": null,
   "metadata": {},
   "outputs": [],
   "source": [
    "values = df1[\"id_mutation\"].value_counts().keys().tolist()\n",
    "counts = df1[\"id_mutation\"].value_counts().tolist()\n",
    "index = df1[\"id_mutation\"].value_counts().index.tolist() "
   ]
  },
  {
   "cell_type": "code",
   "execution_count": null,
   "metadata": {},
   "outputs": [],
   "source": [
    "df1.head()"
   ]
  },
  {
   "cell_type": "code",
   "execution_count": null,
   "metadata": {},
   "outputs": [],
   "source": [
    "dftest = df[df['id_parcelle']=='06159000AR0212']"
   ]
  },
  {
   "cell_type": "code",
   "execution_count": null,
   "metadata": {},
   "outputs": [],
   "source": [
    "dftest.head()"
   ]
  },
  {
   "cell_type": "code",
   "execution_count": null,
   "metadata": {},
   "outputs": [],
   "source": [
    "dftest.groupby(['id_mutation','type_local'])['code_type_local'].count()"
   ]
  },
  {
   "cell_type": "code",
   "execution_count": null,
   "metadata": {},
   "outputs": [],
   "source": []
  },
  {
   "cell_type": "code",
   "execution_count": null,
   "metadata": {},
   "outputs": [],
   "source": [
    "comptes = df1.groupby(by=['id_mutation'], sort=False)['id_parcelle'].count()\n",
    "comptes.head(10)"
   ]
  },
  {
   "cell_type": "code",
   "execution_count": null,
   "metadata": {},
   "outputs": [],
   "source": [
    "df1 = df1.join(comptes, how='inner', on=['id_mutation'], rsuffix=('_nbr'), sort=False)"
   ]
  },
  {
   "cell_type": "code",
   "execution_count": null,
   "metadata": {},
   "outputs": [],
   "source": [
    "df.head()"
   ]
  },
  {
   "cell_type": "code",
   "execution_count": null,
   "metadata": {},
   "outputs": [],
   "source": [
    "df1.rename(columns={'id_parcelle_nbr': 'id_nbr_vente'}, inplace=True)"
   ]
  },
  {
   "cell_type": "code",
   "execution_count": null,
   "metadata": {},
   "outputs": [],
   "source": [
    "df1to3 = df1[df1[\"id_nbr_vente\"] < 4]"
   ]
  },
  {
   "cell_type": "code",
   "execution_count": null,
   "metadata": {},
   "outputs": [],
   "source": [
    "df1to3.head()"
   ]
  },
  {
   "cell_type": "code",
   "execution_count": null,
   "metadata": {},
   "outputs": [],
   "source": [
    "df4to10 = df1[(df1[\"id_nbr_vente\"] > 4) & (df1[\"id_nbr_vente\"] < 11)]"
   ]
  },
  {
   "cell_type": "code",
   "execution_count": null,
   "metadata": {},
   "outputs": [],
   "source": [
    "df4to10.head()"
   ]
  },
  {
   "cell_type": "code",
   "execution_count": null,
   "metadata": {},
   "outputs": [],
   "source": [
    "df1['nature_culture'] = df1[(df1[\"code_nature_culture\"]=='AB') & (df1['nature_culture'])].fillna(\"terrains a bâtir\")"
   ]
  },
  {
   "cell_type": "code",
   "execution_count": null,
   "metadata": {},
   "outputs": [],
   "source": [
    "df.head()"
   ]
  },
  {
   "cell_type": "code",
   "execution_count": null,
   "metadata": {},
   "outputs": [],
   "source": []
  },
  {
   "cell_type": "code",
   "execution_count": null,
   "metadata": {},
   "outputs": [],
   "source": []
  },
  {
   "cell_type": "code",
   "execution_count": null,
   "metadata": {},
   "outputs": [],
   "source": [
    "df1.id_mutation.value_counts()"
   ]
  },
  {
   "cell_type": "code",
   "execution_count": null,
   "metadata": {},
   "outputs": [],
   "source": [
    "df1[df1[\"id_mutation\"] == \"2014-22970\"][\"type_local\"].value_counts()"
   ]
  },
  {
   "cell_type": "code",
   "execution_count": null,
   "metadata": {},
   "outputs": [],
   "source": [
    "df[df[\"id_mutation\"] == \"2015-5\"]"
   ]
  },
  {
   "cell_type": "code",
   "execution_count": null,
   "metadata": {},
   "outputs": [],
   "source": [
    "df1[df1[\"id_mutation\"] == \"2014-38461\"][\"type_local\"].value_counts()"
   ]
  },
  {
   "cell_type": "code",
   "execution_count": null,
   "metadata": {},
   "outputs": [],
   "source": [
    "df1[df1[\"id_mutation\"] == \"2014-38461\"].head()"
   ]
  },
  {
   "cell_type": "code",
   "execution_count": null,
   "metadata": {},
   "outputs": [],
   "source": [
    "df1[df1[\"id_mutation\"] == \"2014-719095\"].head()"
   ]
  },
  {
   "cell_type": "code",
   "execution_count": null,
   "metadata": {},
   "outputs": [],
   "source": [
    "df1[df1[\"id_mutation\"] == \"2014-14452\"][\"type_local\"].value_counts()"
   ]
  },
  {
   "cell_type": "code",
   "execution_count": null,
   "metadata": {},
   "outputs": [],
   "source": [
    "df1[df1[\"id_mutation\"] == \"2014-14452\"][\"nature_culture\"].value_counts()"
   ]
  },
  {
   "cell_type": "code",
   "execution_count": null,
   "metadata": {},
   "outputs": [],
   "source": [
    "df1[df1[\"id_mutation\"] == \"2014-14452\"]"
   ]
  },
  {
   "cell_type": "code",
   "execution_count": null,
   "metadata": {},
   "outputs": [],
   "source": [
    "df1.nombre_lots.value_counts()"
   ]
  },
  {
   "cell_type": "code",
   "execution_count": null,
   "metadata": {},
   "outputs": [],
   "source": [
    "df1[df1[\"nombre_lots\"] == 0].head(30)"
   ]
  },
  {
   "cell_type": "code",
   "execution_count": null,
   "metadata": {},
   "outputs": [],
   "source": [
    "df2.isnull().sum()/(len(df2))"
   ]
  },
  {
   "cell_type": "code",
   "execution_count": null,
   "metadata": {},
   "outputs": [],
   "source": [
    "df3.isnull().sum()/(len(df3))"
   ]
  },
  {
   "cell_type": "code",
   "execution_count": null,
   "metadata": {},
   "outputs": [],
   "source": [
    "df4.isnull().sum()/(len(df4))"
   ]
  },
  {
   "cell_type": "code",
   "execution_count": null,
   "metadata": {},
   "outputs": [],
   "source": [
    "df5.isnull().sum()/(len(df5))"
   ]
  },
  {
   "cell_type": "code",
   "execution_count": null,
   "metadata": {},
   "outputs": [],
   "source": []
  },
  {
   "cell_type": "code",
   "execution_count": null,
   "metadata": {},
   "outputs": [],
   "source": [
    "df[df.valeur_fonciere > 1000000000]"
   ]
  },
  {
   "cell_type": "code",
   "execution_count": null,
   "metadata": {},
   "outputs": [],
   "source": [
    "df.dtypes"
   ]
  },
  {
   "cell_type": "code",
   "execution_count": null,
   "metadata": {},
   "outputs": [],
   "source": [
    "print(df.describe(include='all'))"
   ]
  },
  {
   "cell_type": "code",
   "execution_count": null,
   "metadata": {},
   "outputs": [],
   "source": [
    "df.isnull().sum()/(len(df))*100"
   ]
  },
  {
   "cell_type": "code",
   "execution_count": null,
   "metadata": {},
   "outputs": [],
   "source": [
    "sns.heatmap(df.isnull(), cbar=False)\n",
    "plt.show()"
   ]
  },
  {
   "cell_type": "code",
   "execution_count": null,
   "metadata": {},
   "outputs": [],
   "source": [
    "dfbis = df.sample(frac=0.25)"
   ]
  },
  {
   "cell_type": "code",
   "execution_count": null,
   "metadata": {},
   "outputs": [],
   "source": [
    "del(df5)"
   ]
  },
  {
   "cell_type": "code",
   "execution_count": null,
   "metadata": {},
   "outputs": [],
   "source": [
    "df.dtypes"
   ]
  },
  {
   "cell_type": "code",
   "execution_count": null,
   "metadata": {},
   "outputs": [],
   "source": [
    "df.shape"
   ]
  },
  {
   "cell_type": "code",
   "execution_count": null,
   "metadata": {},
   "outputs": [],
   "source": [
    "df.head(10)"
   ]
  },
  {
   "cell_type": "code",
   "execution_count": null,
   "metadata": {},
   "outputs": [],
   "source": [
    "len(df)"
   ]
  },
  {
   "cell_type": "code",
   "execution_count": null,
   "metadata": {},
   "outputs": [],
   "source": [
    "df1.isnull().sum()/(len(df))"
   ]
  },
  {
   "cell_type": "code",
   "execution_count": null,
   "metadata": {},
   "outputs": [],
   "source": [
    "df1.dtypes"
   ]
  },
  {
   "cell_type": "code",
   "execution_count": null,
   "metadata": {},
   "outputs": [],
   "source": [
    "df2.head(15)"
   ]
  },
  {
   "cell_type": "code",
   "execution_count": null,
   "metadata": {},
   "outputs": [],
   "source": [
    "df2[df2[\"id_mutation\"] == \"2015-10\"]"
   ]
  },
  {
   "cell_type": "code",
   "execution_count": null,
   "metadata": {},
   "outputs": [],
   "source": [
    "df4[(df4[\"type_local\"] == \"Maison\") & (df4[\"type_local\"] == \"Local industriel. commercial ou assimilé\")]['id_mutation']"
   ]
  },
  {
   "cell_type": "code",
   "execution_count": null,
   "metadata": {},
   "outputs": [],
   "source": [
    "sommes = df4.groupby(by=['id_mutation'], sort=False)[\n",
    "    'code_type_local', 'code_nature_culture'\n",
    "]\n",
    "sommes.head(10)"
   ]
  },
  {
   "cell_type": "code",
   "execution_count": null,
   "metadata": {},
   "outputs": [],
   "source": [
    "df4[df4['id_mutation']][\"type_local\"].head()"
   ]
  },
  {
   "cell_type": "code",
   "execution_count": null,
   "metadata": {},
   "outputs": [],
   "source": [
    "df = df.dropna(subset=['longitude'])"
   ]
  },
  {
   "cell_type": "code",
   "execution_count": null,
   "metadata": {},
   "outputs": [],
   "source": [
    "df = df.drop(df[df.valeur_fonciere < 2].index)"
   ]
  },
  {
   "cell_type": "code",
   "execution_count": null,
   "metadata": {},
   "outputs": [],
   "source": [
    "df = df.drop(df[df.valeur_fonciere > 100000000].index)"
   ]
  },
  {
   "cell_type": "code",
   "execution_count": null,
   "metadata": {},
   "outputs": [],
   "source": [
    "df[[\"valeur_fonciere\"]].boxplot()\n",
    "plt.show()"
   ]
  },
  {
   "cell_type": "code",
   "execution_count": null,
   "metadata": {},
   "outputs": [],
   "source": [
    "df.valeur_fonciere.max()"
   ]
  },
  {
   "cell_type": "code",
   "execution_count": null,
   "metadata": {},
   "outputs": [],
   "source": [
    "df.valeur_fonciere.mean()"
   ]
  },
  {
   "cell_type": "code",
   "execution_count": null,
   "metadata": {},
   "outputs": [],
   "source": [
    "df.groupby(pd.qcut(df.valeur_fonciere, 10))['valeur_fonciere'].sum()"
   ]
  },
  {
   "cell_type": "code",
   "execution_count": null,
   "metadata": {},
   "outputs": [],
   "source": [
    "df.groupby(pd.qcut(df.valeur_fonciere, 100))['valeur_fonciere'].sum()"
   ]
  },
  {
   "cell_type": "code",
   "execution_count": null,
   "metadata": {},
   "outputs": [],
   "source": [
    "df.valeur_fonciere.min()"
   ]
  },
  {
   "cell_type": "code",
   "execution_count": null,
   "metadata": {},
   "outputs": [],
   "source": [
    "df1to3[[\"valeur_fonciere\"]].boxplot()\n",
    "plt.show()"
   ]
  },
  {
   "cell_type": "code",
   "execution_count": null,
   "metadata": {},
   "outputs": [],
   "source": [
    "df.surface_terrain_sum.max()"
   ]
  },
  {
   "cell_type": "code",
   "execution_count": null,
   "metadata": {},
   "outputs": [],
   "source": [
    "df[df[\"surface_terrain_sum\"]== 1441272497]"
   ]
  },
  {
   "cell_type": "code",
   "execution_count": null,
   "metadata": {},
   "outputs": [],
   "source": [
    "df4[(df4['id_mutation']=='2017-448154') & (df4['id_parcelle'] == '33193000AA0002')]"
   ]
  },
  {
   "cell_type": "code",
   "execution_count": null,
   "metadata": {},
   "outputs": [],
   "source": [
    "df.surface_terrain_sum.min()"
   ]
  },
  {
   "cell_type": "code",
   "execution_count": null,
   "metadata": {},
   "outputs": [],
   "source": [
    "df.surface_terrain_sum.mean()"
   ]
  },
  {
   "cell_type": "code",
   "execution_count": null,
   "metadata": {},
   "outputs": [],
   "source": [
    "df.groupby(pd.qcut(df.surface_terrain_sum, 20))['valeur_fonciere'].sum()"
   ]
  },
  {
   "cell_type": "code",
   "execution_count": null,
   "metadata": {},
   "outputs": [],
   "source": [
    "df[[\"surface_reelle_bati_sum\"]].boxplot()\n",
    "plt.show()"
   ]
  },
  {
   "cell_type": "code",
   "execution_count": null,
   "metadata": {},
   "outputs": [],
   "source": [
    "df.surface_reelle_bati_sum.max()"
   ]
  },
  {
   "cell_type": "code",
   "execution_count": null,
   "metadata": {},
   "outputs": [],
   "source": [
    "df.surface_reelle_bati_sum.min()"
   ]
  },
  {
   "cell_type": "code",
   "execution_count": null,
   "metadata": {},
   "outputs": [],
   "source": [
    "df.surface_reelle_bati_sum.mean()"
   ]
  },
  {
   "cell_type": "code",
   "execution_count": null,
   "metadata": {},
   "outputs": [],
   "source": [
    "df.groupby(pd.qcut(df.surface_reelle_bati_sum, 25))['surface_reelle_bati_sum'].sum()"
   ]
  },
  {
   "cell_type": "code",
   "execution_count": null,
   "metadata": {},
   "outputs": [],
   "source": [
    "trace0 = go.Box(\n",
    "    x=df['code_type_local'],\n",
    "    y= df['valeur_fonciere'],\n",
    "    fillcolor='rgb(50, 116, 161)',\n",
    "    line={'color':'rgb(25, 58, 80)'},\n",
    ")\n",
    "\n",
    "data = [trace0]\n",
    "plotly.offline.plot(data, filename='France_boxplot_type')"
   ]
  },
  {
   "cell_type": "code",
   "execution_count": null,
   "metadata": {},
   "outputs": [],
   "source": [
    "sns.countplot(df1[\"type_local\"])\n",
    "plt.show()"
   ]
  },
  {
   "cell_type": "code",
   "execution_count": null,
   "metadata": {},
   "outputs": [],
   "source": [
    "df1[\"type_local\"].value_counts(dropna=False)"
   ]
  },
  {
   "cell_type": "code",
   "execution_count": null,
   "metadata": {
    "scrolled": true
   },
   "outputs": [],
   "source": [
    "sns.boxplot(data = df1[df1.valeur_fonciere < 1000000], x = 'type_local', y = 'valeur_fonciere')\n",
    "plt.show()"
   ]
  },
  {
   "cell_type": "code",
   "execution_count": null,
   "metadata": {},
   "outputs": [],
   "source": [
    "sns.boxplot(data = df1[df1.valeur_fonciere < 1000000], y = 'valeur_fonciere')\n",
    "plt.show()"
   ]
  },
  {
   "cell_type": "code",
   "execution_count": null,
   "metadata": {},
   "outputs": [],
   "source": [
    "sns.boxplot(data = df, x = 'type_local', y = 'valeur_fonciere')\n",
    "plt.show()"
   ]
  },
  {
   "cell_type": "code",
   "execution_count": null,
   "metadata": {},
   "outputs": [],
   "source": [
    "dfparis = df[(df.code_departement == 75)]"
   ]
  },
  {
   "cell_type": "code",
   "execution_count": null,
   "metadata": {},
   "outputs": [],
   "source": [
    "dfparis.shape"
   ]
  },
  {
   "cell_type": "code",
   "execution_count": null,
   "metadata": {},
   "outputs": [],
   "source": [
    "sns.boxplot(data = df[(df.code_departement == 75) & (df.valeur_fonciere < 3000000)], x = 'type_local', y = 'valeur_fonciere')\n",
    "plt.show()"
   ]
  },
  {
   "cell_type": "code",
   "execution_count": null,
   "metadata": {},
   "outputs": [],
   "source": [
    "sns.countplot(dfparis[\"type_local\"])\n",
    "plt.show()"
   ]
  },
  {
   "cell_type": "code",
   "execution_count": null,
   "metadata": {},
   "outputs": [],
   "source": [
    "sns.boxplot(data = df[(df.code_departement == 69) & (df.valeur_fonciere < 3000000)], x = 'type_local', y = 'valeur_fonciere')\n",
    "plt.show()"
   ]
  },
  {
   "cell_type": "code",
   "execution_count": null,
   "metadata": {},
   "outputs": [],
   "source": [
    "sns.boxplot(data = df[(df.code_departement == 92) & (df.valeur_fonciere < 3000000)], x = 'type_local', y = 'valeur_fonciere')\n",
    "plt.show()"
   ]
  },
  {
   "cell_type": "code",
   "execution_count": null,
   "metadata": {},
   "outputs": [],
   "source": [
    "sns.boxplot(data = df[(df.code_departement == 78) & (df.valeur_fonciere < 3000000)], x = 'type_local', y = 'valeur_fonciere')\n",
    "plt.show()"
   ]
  },
  {
   "cell_type": "code",
   "execution_count": null,
   "metadata": {},
   "outputs": [],
   "source": [
    "sns.boxplot(data = df[(df.code_departement == 77) & (df.valeur_fonciere < 3000000)], x = 'type_local', y = 'valeur_fonciere')\n",
    "plt.show()"
   ]
  },
  {
   "cell_type": "code",
   "execution_count": null,
   "metadata": {},
   "outputs": [],
   "source": [
    "sns.boxplot(data = df[df.valeur_fonciere < 3000000], x = 'type_local', y = 'valeur_fonciere')\n",
    "plt.show()"
   ]
  },
  {
   "cell_type": "code",
   "execution_count": null,
   "metadata": {},
   "outputs": [],
   "source": [
    "sns.countplot(df[\"type_local\"], hue=df[\"nature_culture\"])\n",
    "plt.show()"
   ]
  },
  {
   "cell_type": "code",
   "execution_count": null,
   "metadata": {},
   "outputs": [],
   "source": [
    "df.type_local.value_counts()"
   ]
  },
  {
   "cell_type": "code",
   "execution_count": null,
   "metadata": {},
   "outputs": [],
   "source": [
    "sns.boxplot(data = df, x = 'type_local', y = 'nombre_pieces_principales_sum')\n",
    "plt.xticks(rotation='vertical')\n",
    "plt.show()"
   ]
  },
  {
   "cell_type": "code",
   "execution_count": null,
   "metadata": {},
   "outputs": [],
   "source": [
    "sns.boxplot(data = df, x = 'nature_culture', y = 'valeur_fonciere')\n",
    "plt.xticks(rotation='vertical')\n",
    "plt.show()"
   ]
  },
  {
   "cell_type": "code",
   "execution_count": null,
   "metadata": {},
   "outputs": [],
   "source": [
    "sns.boxplot(data = df[df.valeur_fonciere < 1000000], x = 'nature_culture', y = 'valeur_fonciere')\n",
    "plt.xticks(rotation='vertical')\n",
    "plt.show()"
   ]
  },
  {
   "cell_type": "code",
   "execution_count": null,
   "metadata": {},
   "outputs": [],
   "source": [
    "sns.countplot(df[\"nature_culture\"])\n",
    "plt.xticks(rotation='vertical')\n",
    "plt.show()"
   ]
  },
  {
   "cell_type": "code",
   "execution_count": null,
   "metadata": {},
   "outputs": [],
   "source": [
    "sns.boxplot(data = df, x = 'nature_culture', y = 'surface_terrain_sum')\n",
    "plt.xticks(rotation='vertical')\n",
    "plt.show()"
   ]
  },
  {
   "cell_type": "code",
   "execution_count": null,
   "metadata": {},
   "outputs": [],
   "source": [
    "df.isnull().sum()/(len(df))"
   ]
  },
  {
   "cell_type": "code",
   "execution_count": null,
   "metadata": {},
   "outputs": [],
   "source": [
    "df.dtypes"
   ]
  },
  {
   "cell_type": "code",
   "execution_count": null,
   "metadata": {},
   "outputs": [],
   "source": [
    "dftempo = df[df.valeur_fonciere < 2000000]\n",
    "dftempo = dftempo[dftempo.nombre_pieces_principales_sum < 30]"
   ]
  },
  {
   "cell_type": "code",
   "execution_count": null,
   "metadata": {},
   "outputs": [],
   "source": [
    "fig = plt.figure()\n",
    "ax1 = fig.add_subplot(211)\n",
    "ax2 = fig.add_subplot(212)\n",
    "\n",
    "sns.kdeplot(dfidf[(dfidf[\"code_type_local\"]==1)\n",
    "         & (dfidf[\"nombre_pieces_principales_sum\"] == 2)][\"valeur_fonciere\"], ax=ax1, label='room : 2')\n",
    "\n",
    "sns.kdeplot(dfidf[(dfidf[\"code_type_local\"]==1)\n",
    "         & (dfidf[\"nombre_pieces_principales_sum\"] == 3)][\"valeur_fonciere\"], ax=ax1, label='room : 3')\n",
    "\n",
    "sns.kdeplot(dfidf[(dfidf[\"code_type_local\"]==1)\n",
    "         & (dfidf[\"nombre_pieces_principales_sum\"] == 4)][\"valeur_fonciere\"], ax=ax1, label='room : 4')\n",
    "\n",
    "sns.kdeplot(dfidf[(dfidf[\"code_type_local\"]==1)\n",
    "         & (dfidf[\"nombre_pieces_principales_sum\"] == 5)][\"valeur_fonciere\"], ax=ax1, label='room : 5')\n",
    "\n",
    "sns.countplot(dfidf[dfidf[\"code_type_local\"]==1][\"nombre_pieces_principales_sum\"], ax=ax2)\n",
    "plt.show()"
   ]
  },
  {
   "cell_type": "code",
   "execution_count": null,
   "metadata": {},
   "outputs": [],
   "source": [
    "all_regions = (df['valeur_fonciere'].values)\n",
    "\n",
    "gaussian_distribution = np.log(df['valeur_fonciere'].values)\n",
    "\n",
    "\n",
    "# Histograms\n",
    "overall_price_plot = go.Histogram(\n",
    "    x=all_regions,\n",
    "    histnorm='percent', \n",
    "    name='All Regions',\n",
    "    marker=dict(\n",
    "        color='#6E6E6E'\n",
    "    )\n",
    ")\n",
    "\n",
    "\n",
    "gaussian_distribution_plot = go.Histogram(\n",
    "    x=gaussian_distribution,\n",
    "    histnorm='percent',\n",
    "    name='Gaussian Distribution',\n",
    "    marker=dict(\n",
    "        color='#800000'\n",
    "    )\n",
    ")\n",
    "\n",
    "\n",
    "fig = tools.make_subplots(rows=2, cols=1, print_grid=False, specs=[[{}], [{}]],\n",
    "                         subplot_titles=(\n",
    "                             'Overall Price Distribution',\n",
    "                             'Gaussian Distribution of Price'\n",
    "                             ))\n",
    "\n",
    "fig.append_trace(overall_price_plot, 1, 1)\n",
    "fig.append_trace(gaussian_distribution_plot, 2, 1)\n",
    "\n",
    "fig['layout'].update(showlegend=False, title=\"Price Distributions by Region\",\n",
    "                    height=1200, width=800)\n",
    "plotly.offline.plot(fig, filename='price_distribution_France')"
   ]
  },
  {
   "cell_type": "code",
   "execution_count": null,
   "metadata": {},
   "outputs": [],
   "source": [
    "df.valeur_fonciere.min()"
   ]
  },
  {
   "cell_type": "code",
   "execution_count": null,
   "metadata": {},
   "outputs": [],
   "source": [
    "df.isnull().sum()/(len(df))"
   ]
  },
  {
   "cell_type": "code",
   "execution_count": null,
   "metadata": {},
   "outputs": [],
   "source": [
    "df1['code_type_local'] = df1['code_type_local'].fillna(5.0)"
   ]
  },
  {
   "cell_type": "code",
   "execution_count": null,
   "metadata": {},
   "outputs": [],
   "source": [
    "df = df1[df1[\"code_type_local\"]!= 3.0].copy()\n",
    "df = df[df[\"code_type_local\"]!=5.0].head(500000)"
   ]
  },
  {
   "cell_type": "code",
   "execution_count": null,
   "metadata": {},
   "outputs": [],
   "source": [
    "df['Season'] = np.nan\n",
    "lst = [df]\n",
    "\n",
    "for column in lst:\n",
    "    column.loc[(column['Month'] > 2) & (column['Month'] <= 5), 'Season'] = 'Spring'\n",
    "    column.loc[(column['Month'] > 5) & (column['Month'] <= 8), 'Season'] = 'Summer'\n",
    "    column.loc[(column['Month'] > 8) & (column['Month'] <= 11), 'Season'] = 'Autumn'\n",
    "    column.loc[column['Month'] <= 2, 'Season'] = 'Winter'\n",
    "    column.loc[column['Month'] == 12, 'Season'] = 'Winter'\n",
    "    \n",
    "df['Season'].value_counts()"
   ]
  },
  {
   "cell_type": "code",
   "execution_count": null,
   "metadata": {},
   "outputs": [],
   "source": [
    "def month_year_sales(df, month, year):\n",
    "    double_conditional = df['valeur_fonciere'].loc[(df['Month'] == month) & (df['Year'] == year)].sum()\n",
    "    return double_conditional"
   ]
  },
  {
   "cell_type": "code",
   "execution_count": null,
   "metadata": {},
   "outputs": [],
   "source": [
    "def month_year_sales_count(df, month, year):\n",
    "    double_conditional = df['valeur_fonciere'].loc[(df['Month'] == month) & (df['Year'] == year)].count()\n",
    "    return double_conditional"
   ]
  },
  {
   "cell_type": "code",
   "execution_count": null,
   "metadata": {},
   "outputs": [],
   "source": [
    "january_2014_count = month_year_sales_count(df, 1, 2014)\n",
    "february_2014_count = month_year_sales_count(df, 2, 2014)\n",
    "march_2014_count = month_year_sales_count(df, 3, 2014)\n",
    "april_2014_count = month_year_sales_count(df, 4, 2014)\n",
    "may_2014_count = month_year_sales_count(df, 5, 2014)\n",
    "june_2014_count = month_year_sales_count(df, 6, 2014)\n",
    "july_2014_count = month_year_sales_count(df, 7, 2014)\n",
    "august_2014_count = month_year_sales_count(df, 8, 2014)\n",
    "september_2014_count = month_year_sales_count(df, 9, 2014)\n",
    "october_2014_count = month_year_sales_count(df, 10, 2014)\n",
    "november_2014_count = month_year_sales_count(df, 11, 2014)\n",
    "december_2014_count = month_year_sales_count(df, 12, 2014)\n",
    "\n",
    "# Sales 2015\n",
    "january_2015_count = month_year_sales_count(df, 1, 2015)\n",
    "february_2015_count = month_year_sales_count(df, 2, 2015)\n",
    "march_2015_count = month_year_sales_count(df, 3, 2015)\n",
    "april_2015_count = month_year_sales_count(df, 4, 2015)\n",
    "may_2015_count = month_year_sales_count(df, 5, 2015)\n",
    "june_2015_count = month_year_sales_count(df, 6, 2015)\n",
    "july_2015_count = month_year_sales_count(df, 7, 2015)\n",
    "august_2015_count = month_year_sales_count(df, 8, 2015)\n",
    "september_2015_count = month_year_sales_count(df, 9, 2015)\n",
    "october_2015_count = month_year_sales_count(df, 10, 2015)\n",
    "november_2015_count = month_year_sales_count(df, 11, 2015)\n",
    "december_2015_count = month_year_sales_count(df, 12, 2015)\n",
    "\n",
    "\n",
    "january_2016_count = month_year_sales_count(df, 1, 2016)\n",
    "february_2016_count = month_year_sales_count(df, 2, 2016)\n",
    "march_2016_count = month_year_sales_count(df, 3, 2016)\n",
    "april_2016_count = month_year_sales_count(df, 4, 2016)\n",
    "may_2016_count = month_year_sales_count(df, 5, 2016)\n",
    "june_2016_count = month_year_sales_count(df, 6, 2016)\n",
    "july_2016_count = month_year_sales_count(df, 7, 2016)\n",
    "august_2016_count = month_year_sales_count(df, 8, 2016)\n",
    "september_2016_count = month_year_sales_count(df, 9, 2016)\n",
    "october_2016_count = month_year_sales_count(df, 10, 2016)\n",
    "november_2016_count = month_year_sales_count(df, 11, 2016)\n",
    "december_2016_count = month_year_sales_count(df, 12, 2016)\n",
    "\n",
    "# Sales 2017\n",
    "january_2017_count = month_year_sales_count(df, 1, 2017)\n",
    "february_2017_count = month_year_sales_count(df, 2, 2017)\n",
    "march_2017_count = month_year_sales_count(df, 3, 2017)\n",
    "april_2017_count = month_year_sales_count(df, 4, 2017)\n",
    "may_2017_count = month_year_sales_count(df, 5, 2017)\n",
    "june_2017_count = month_year_sales_count(df, 6, 2017)\n",
    "july_2017_count = month_year_sales_count(df, 7, 2017)\n",
    "august_2017_count = month_year_sales_count(df, 8, 2017)\n",
    "september_2017_count = month_year_sales_count(df, 9, 2017)\n",
    "october_2017_count = month_year_sales_count(df, 10, 2017)\n",
    "november_2017_count = month_year_sales_count(df, 11, 2017)\n",
    "december_2017_count = month_year_sales_count(df, 12, 2017)\n",
    "\n",
    "# Sales 2018 (Until May)\n",
    "january_2018_count = month_year_sales_count(df, 1, 2018)\n",
    "february_2018_count = month_year_sales_count(df, 2, 2018)\n",
    "march_2018_count = month_year_sales_count(df, 3, 2018)\n",
    "april_2018_count = month_year_sales_count(df, 4, 2018)\n",
    "may_2018_count = month_year_sales_count(df, 5, 2018)\n",
    "june_2018_count = month_year_sales_count(df, 6, 2018)\n",
    "july_2018_count = month_year_sales_count(df, 7, 2018)\n",
    "august_2018_count = month_year_sales_count(df, 8, 2018)\n",
    "september_2018_count = month_year_sales_count(df, 9, 2018)\n",
    "october_2018_count = month_year_sales_count(df, 10, 2017)\n",
    "november_2018_count = month_year_sales_count(df, 11, 2018)\n",
    "december_2018_count = month_year_sales_count(df, 12, 2018)"
   ]
  },
  {
   "cell_type": "code",
   "execution_count": null,
   "metadata": {},
   "outputs": [],
   "source": [
    "# List of values\n",
    "lst_2014_count = [january_2014_count, february_2014_count, march_2014_count, april_2014_count, \n",
    "           may_2014_count, june_2014_count, july_2014_count, august_2014_count, \n",
    "           september_2014_count, october_2014_count, november_2014_count, december_2014_count]\n",
    "\n",
    "lst_2015_count = [january_2015_count, february_2015_count, march_2015_count, april_2015_count, \n",
    "           may_2015_count, june_2015_count, july_2015_count, august_2015_count, \n",
    "           september_2015_count, october_2015_count, november_2015_count, december_2015_count]\n",
    "\n",
    "\n",
    "lst_2016_count = [january_2016_count, february_2016_count, march_2016_count, april_2016_count, \n",
    "           may_2016_count, june_2016_count, july_2016_count, august_2016_count, \n",
    "           september_2016_count, october_2016_count, november_2016_count, december_2016_count]\n",
    "\n",
    "lst_2017_count = [january_2017_count, february_2017_count, march_2017_count, april_2017_count, \n",
    "           may_2017_count, june_2017_count, july_2017_count, august_2017_count, \n",
    "           september_2017_count, october_2017_count, november_2017_count, december_2017_count]\n",
    "\n",
    "lst_2018_count = [january_2018_count, february_2018_count, march_2018_count, april_2018_count, \n",
    "           may_2018_count, june_2018_count, july_2018_count, august_2018_count, \n",
    "           september_2018_count, october_2018_count, november_2018_count, december_2018_count]"
   ]
  },
  {
   "cell_type": "code",
   "execution_count": null,
   "metadata": {},
   "outputs": [],
   "source": [
    "january_2014 = month_year_sales(df, 1, 2014)\n",
    "february_2014 = month_year_sales(df, 2, 2014)\n",
    "march_2014 = month_year_sales(df, 3, 2014)\n",
    "april_2014 = month_year_sales(df, 4, 2014)\n",
    "may_2014 = month_year_sales(df, 5, 2014)\n",
    "june_2014 = month_year_sales(df, 6, 2014)\n",
    "july_2014 = month_year_sales(df, 7, 2014)\n",
    "august_2014 = month_year_sales(df, 8, 2014)\n",
    "september_2014 = month_year_sales(df, 9, 2014)\n",
    "october_2014 = month_year_sales(df, 10, 2014)\n",
    "november_2014 = month_year_sales(df, 11, 2014)\n",
    "december_2014 = month_year_sales(df, 12, 2014)\n",
    "\n",
    "# Sales 2015\n",
    "january_2015 = month_year_sales(df, 1, 2015)\n",
    "february_2015 = month_year_sales(df, 2, 2015)\n",
    "march_2015 = month_year_sales(df, 3, 2015)\n",
    "april_2015 = month_year_sales(df, 4, 2015)\n",
    "may_2015 = month_year_sales(df, 5, 2015)\n",
    "june_2015 = month_year_sales(df, 6, 2015)\n",
    "july_2015 = month_year_sales(df, 7, 2015)\n",
    "august_2015 = month_year_sales(df, 8, 2015)\n",
    "september_2015 = month_year_sales(df, 9, 2015)\n",
    "october_2015 = month_year_sales(df, 10, 2015)\n",
    "november_2015 = month_year_sales(df, 11, 2015)\n",
    "december_2015 = month_year_sales(df, 12, 2015)\n",
    "\n",
    "\n",
    "january_2016 = month_year_sales(df, 1, 2016)\n",
    "february_2016 = month_year_sales(df, 2, 2016)\n",
    "march_2016 = month_year_sales(df, 3, 2016)\n",
    "april_2016 = month_year_sales(df, 4, 2016)\n",
    "may_2016 = month_year_sales(df, 5, 2016)\n",
    "june_2016 = month_year_sales(df, 6, 2016)\n",
    "july_2016 = month_year_sales(df, 7, 2016)\n",
    "august_2016 = month_year_sales(df, 8, 2016)\n",
    "september_2016 = month_year_sales(df, 9, 2016)\n",
    "october_2016 = month_year_sales(df, 10, 2016)\n",
    "november_2016 = month_year_sales(df, 11, 2016)\n",
    "december_2016 = month_year_sales(df, 12, 2016)\n",
    "\n",
    "# Sales 2017\n",
    "january_2017 = month_year_sales(df, 1, 2017)\n",
    "february_2017 = month_year_sales(df, 2, 2017)\n",
    "march_2017 = month_year_sales(df, 3, 2017)\n",
    "april_2017 = month_year_sales(df, 4, 2017)\n",
    "may_2017 = month_year_sales(df, 5, 2017)\n",
    "june_2017 = month_year_sales(df, 6, 2017)\n",
    "july_2017 = month_year_sales(df, 7, 2017)\n",
    "august_2017 = month_year_sales(df, 8, 2017)\n",
    "september_2017 = month_year_sales(df, 9, 2017)\n",
    "october_2017 = month_year_sales(df, 10, 2017)\n",
    "november_2017 = month_year_sales(df, 11, 2017)\n",
    "december_2017 = month_year_sales(df, 12, 2017)\n",
    "\n",
    "# Sales 2018 (Until May)\n",
    "january_2018 = month_year_sales(df, 1, 2018)\n",
    "february_2018 = month_year_sales(df, 2, 2018)\n",
    "march_2018 = month_year_sales(df, 3, 2018)\n",
    "april_2018 = month_year_sales(df, 4, 2018)\n",
    "may_2018 = month_year_sales(df, 5, 2018)\n",
    "june_2018 = month_year_sales(df, 6, 2018)\n",
    "july_2018 = month_year_sales(df, 7, 2018)\n",
    "august_2018 = month_year_sales(df, 8, 2018)\n",
    "september_2018 = month_year_sales(df, 9, 2018)\n",
    "october_2018 = month_year_sales(df, 10, 2017)\n",
    "november_2018 = month_year_sales(df, 11, 2018)\n",
    "december_2018 = month_year_sales(df, 12, 2018)"
   ]
  },
  {
   "cell_type": "code",
   "execution_count": null,
   "metadata": {},
   "outputs": [],
   "source": [
    "# List of values\n",
    "lst_2014 = [january_2014, february_2014, march_2014, april_2014, \n",
    "           may_2014, june_2014, july_2014, august_2014, \n",
    "           september_2014, october_2014, november_2014, december_2014]\n",
    "\n",
    "lst_2015 = [january_2015, february_2015, march_2015, april_2015, \n",
    "           may_2015, june_2015, july_2015, august_2015, \n",
    "           september_2015, october_2015, november_2015, december_2015]\n",
    "\n",
    "\n",
    "lst_2016 = [january_2016, february_2016, march_2016, april_2016, \n",
    "           may_2016, june_2016, july_2016, august_2016, \n",
    "           september_2016, october_2016, november_2016, december_2016]\n",
    "\n",
    "lst_2017 = [january_2017, february_2017, march_2017, april_2017, \n",
    "           may_2017, june_2017, july_2017, august_2017, \n",
    "           september_2017, october_2017, november_2017, december_2017]\n",
    "\n",
    "lst_2018 = [january_2018, february_2018, march_2018, april_2018, \n",
    "           may_2018, june_2018, july_2018, august_2018, \n",
    "           september_2018, october_2018, november_2018, december_2018]\n"
   ]
  },
  {
   "cell_type": "code",
   "execution_count": null,
   "metadata": {},
   "outputs": [],
   "source": [
    "labels = ['January', 'February', 'March', 'April',\n",
    "          'May', 'June', 'July', 'August', 'September', \n",
    "          'October', 'November', 'December']"
   ]
  },
  {
   "cell_type": "code",
   "execution_count": null,
   "metadata": {},
   "outputs": [],
   "source": [
    "plot_2014 = go.Scatter(\n",
    "    x=lst_2014_count,\n",
    "    y=labels,\n",
    "    xaxis='x2',\n",
    "    yaxis='y2',\n",
    "    mode='markers',\n",
    "    name='2014',\n",
    "    marker=dict(\n",
    "        color='rgba(255, 40, 255, 1)',\n",
    "        line=dict(\n",
    "            color='rgba(56, 56, 56, 1)',\n",
    "            width=1.5,\n",
    "        ),\n",
    "        symbol='circle',\n",
    "        size=16,\n",
    "    )\n",
    ")\n",
    "\n",
    "\n",
    "plot_2015 = go.Scatter(\n",
    "    x=lst_2015_count,\n",
    "    y=labels,\n",
    "    xaxis='x2',\n",
    "    yaxis='y2',\n",
    "    mode='markers',\n",
    "    name='2015',\n",
    "    marker=dict(\n",
    "        color='yellow',\n",
    "        line=dict(\n",
    "            color='rgba(56, 56, 56, 1)',\n",
    "            width=1.5,\n",
    "        ),\n",
    "        symbol='circle',\n",
    "        size=16,\n",
    "    )\n",
    ")\n",
    "\n",
    "\n",
    "plot_2016 = go.Scatter(\n",
    "    x=lst_2016_count,\n",
    "    y=labels,\n",
    "    xaxis='x2',\n",
    "    yaxis='y2',\n",
    "    mode='markers',\n",
    "    name='2016',\n",
    "    marker=dict(\n",
    "        color='red',\n",
    "        line=dict(\n",
    "            color='rgba(56, 56, 56, 1)',\n",
    "            width=1.5,\n",
    "        ),\n",
    "        symbol='circle',\n",
    "        size=16,\n",
    "    )\n",
    ")\n",
    "\n",
    "\n",
    "plot_2017 = go.Scatter(\n",
    "    x=lst_2017_count,\n",
    "    y=labels,\n",
    "    xaxis='x2',\n",
    "    yaxis='y2',\n",
    "    mode='markers',\n",
    "    name='2017',\n",
    "    marker=dict(\n",
    "        color='green',\n",
    "        line=dict(\n",
    "            color='rgba(56, 56, 56, 1)',\n",
    "            width=1.5,\n",
    "        ),\n",
    "        symbol='circle',\n",
    "        size=16,\n",
    "    )\n",
    ")\n",
    "\n",
    "plot_2018 = go.Scatter(\n",
    "    x=lst_2018_count,\n",
    "    y=labels,\n",
    "    xaxis='x2',\n",
    "    yaxis='y2',\n",
    "    mode='markers',\n",
    "    name='2018',\n",
    "    marker=dict(\n",
    "        color='blue',\n",
    "        line=dict(\n",
    "            color='rgba(56, 56, 56, 1)',\n",
    "            width=1.5,\n",
    "        ),\n",
    "        symbol='circle',\n",
    "        size=16,\n",
    "    )\n",
    ")\n",
    "\n",
    "data = [plot_2014, plot_2015, plot_2016, plot_2017, plot_2018]\n",
    "\n",
    "layout = go.Layout(\n",
    "    title=\"Number of sales by Month for the Years <br> (2014, 2015, 2016, 2017, 2018)\",\n",
    "    xaxis=dict(\n",
    "        showgrid=False,\n",
    "        showline=True,\n",
    "        linecolor='rgb(102, 102, 102)',\n",
    "        titlefont=dict(\n",
    "            color='rgb(204, 204, 204)'\n",
    "        ),\n",
    "        tickfont=dict(\n",
    "            color='rgb(102, 102, 102)',\n",
    "        ),\n",
    "        dtick=10,\n",
    "        ticks='outside',\n",
    "        tickcolor='rgb(102, 102, 102)',\n",
    "    ),\n",
    "    margin=dict(\n",
    "        l=140,\n",
    "        r=40,\n",
    "        b=50,\n",
    "        t=80\n",
    "    ),\n",
    "    legend=dict(\n",
    "        font=dict(\n",
    "            size=10,\n",
    "        ),\n",
    "        yanchor='auto',\n",
    "        xanchor='auto',\n",
    "    ),\n",
    "    width=800,\n",
    "    height=600,\n",
    "    paper_bgcolor='rgb(255, 255, 224)',\n",
    "    plot_bgcolor='rgb(255, 255, 246)',\n",
    "    hovermode='closest',\n",
    ")\n",
    "\n",
    "fig = go.Figure(data=data, layout=layout)\n",
    "plotly.offline.plot(fig, filename='plot_nbvente_cumule_mensuel_FR')"
   ]
  },
  {
   "cell_type": "code",
   "execution_count": null,
   "metadata": {},
   "outputs": [],
   "source": [
    "plot_2014 = go.Scatter(\n",
    "    x=lst_2014,\n",
    "    y=labels,\n",
    "    xaxis='x2',\n",
    "    yaxis='y2',\n",
    "    mode='markers',\n",
    "    name='2014',\n",
    "    marker=dict(\n",
    "        color='rgba(255, 40, 255, 1)',\n",
    "        line=dict(\n",
    "            color='rgba(56, 56, 56, 1)',\n",
    "            width=1.5,\n",
    "        ),\n",
    "        symbol='circle',\n",
    "        size=16,\n",
    "    )\n",
    ")\n",
    "\n",
    "\n",
    "plot_2015 = go.Scatter(\n",
    "    x=lst_2015,\n",
    "    y=labels,\n",
    "    xaxis='x2',\n",
    "    yaxis='y2',\n",
    "    mode='markers',\n",
    "    name='2015',\n",
    "    marker=dict(\n",
    "        color='yellow',\n",
    "        line=dict(\n",
    "            color='rgba(56, 56, 56, 1)',\n",
    "            width=1.5,\n",
    "        ),\n",
    "        symbol='circle',\n",
    "        size=16,\n",
    "    )\n",
    ")\n",
    "\n",
    "plot_2016 = go.Scatter(\n",
    "    x=lst_2016,\n",
    "    y=labels,\n",
    "    xaxis='x2',\n",
    "    yaxis='y2',\n",
    "    mode='markers',\n",
    "    name='2016',\n",
    "    marker=dict(\n",
    "        color='red',\n",
    "        line=dict(\n",
    "            color='rgba(56, 56, 56, 1)',\n",
    "            width=1.5,\n",
    "        ),\n",
    "        symbol='circle',\n",
    "        size=16,\n",
    "    )\n",
    ")\n",
    "\n",
    "\n",
    "plot_2017 = go.Scatter(\n",
    "    x=lst_2017,\n",
    "    y=labels,\n",
    "    xaxis='x2',\n",
    "    yaxis='y2',\n",
    "    mode='markers',\n",
    "    name='2017',\n",
    "    marker=dict(\n",
    "        color='green',\n",
    "        line=dict(\n",
    "            color='rgba(56, 56, 56, 1)',\n",
    "            width=1.5,\n",
    "        ),\n",
    "        symbol='circle',\n",
    "        size=16,\n",
    "    )\n",
    ")\n",
    "\n",
    "plot_2018 = go.Scatter(\n",
    "    x=lst_2018,\n",
    "    y=labels,\n",
    "    xaxis='x2',\n",
    "    yaxis='y2',\n",
    "    mode='markers',\n",
    "    name='2018',\n",
    "    marker=dict(\n",
    "        color='blue',\n",
    "        line=dict(\n",
    "            color='rgba(56, 56, 56, 1)',\n",
    "            width=1.5,\n",
    "        ),\n",
    "        symbol='circle',\n",
    "        size=16,\n",
    "    )\n",
    ")\n",
    "\n",
    "data = [plot_2014, plot_2015, plot_2016, plot_2017, plot_2018]\n",
    "\n",
    "layout = go.Layout(\n",
    "    title=\"Sales by Month for the Years <br> (2014, 2015, 2016, 2017, 2018)\",\n",
    "    xaxis=dict(\n",
    "        showgrid=False,\n",
    "        showline=True,\n",
    "        linecolor='rgb(102, 102, 102)',\n",
    "        titlefont=dict(\n",
    "            color='rgb(204, 204, 204)'\n",
    "        ),\n",
    "        tickfont=dict(\n",
    "            color='rgb(102, 102, 102)',\n",
    "        ),\n",
    "        dtick=10,\n",
    "        ticks='outside',\n",
    "        tickcolor='rgb(102, 102, 102)',\n",
    "    ),\n",
    "    margin=dict(\n",
    "        l=140,\n",
    "        r=40,\n",
    "        b=50,\n",
    "        t=80\n",
    "    ),\n",
    "    legend=dict(\n",
    "        font=dict(\n",
    "            size=10,\n",
    "        ),\n",
    "        yanchor='auto',\n",
    "        xanchor='auto',\n",
    "    ),\n",
    "    width=800,\n",
    "    height=600,\n",
    "    paper_bgcolor='rgb(255, 255, 224)',\n",
    "    plot_bgcolor='rgb(255, 255, 246)',\n",
    "    hovermode='closest',\n",
    ")\n",
    "\n",
    "fig = go.Figure(data=data, layout=layout)\n",
    "plotly.offline.plot(fig, filename='plot_prixvente_cumule_mensuel_FR')"
   ]
  },
  {
   "cell_type": "code",
   "execution_count": null,
   "metadata": {},
   "outputs": [],
   "source": []
  },
  {
   "cell_type": "code",
   "execution_count": null,
   "metadata": {},
   "outputs": [],
   "source": [
    "df['adresse_numero'] = df['adresse_numero'].fillna(0)\n",
    "df.adresse_numero = df.adresse_numero.apply(int)"
   ]
  },
  {
   "cell_type": "code",
   "execution_count": null,
   "metadata": {},
   "outputs": [],
   "source": [
    "df['code_postal'] = df['code_postal'].fillna(0)\n",
    "df.code_postal = df.code_postal.apply(int)"
   ]
  },
  {
   "cell_type": "code",
   "execution_count": null,
   "metadata": {},
   "outputs": [],
   "source": [
    "df['code_postal']=df['code_postal'].apply(lambda x: '{0:0>5}'.format(x))"
   ]
  },
  {
   "cell_type": "code",
   "execution_count": null,
   "metadata": {},
   "outputs": [],
   "source": [
    "df.drop(['Season'], axis=1)"
   ]
  },
  {
   "cell_type": "code",
   "execution_count": null,
   "metadata": {},
   "outputs": [],
   "source": [
    "df.head()"
   ]
  },
  {
   "cell_type": "code",
   "execution_count": null,
   "metadata": {},
   "outputs": [],
   "source": [
    "df['type_local'] = df['type_local'].fillna(\"missing\")\n",
    "df['nom_commune'] = df['nom_commune'].fillna(\"missing\")\n",
    "df['valeur_fonciere'] = df['valeur_fonciere'].fillna(0)"
   ]
  },
  {
   "cell_type": "code",
   "execution_count": null,
   "metadata": {},
   "outputs": [],
   "source": [
    "df = df.drop(df[df.valeur_fonciere > 10000000].index)\n",
    "df = df.drop(df[df.valeur_fonciere < 1000].index)"
   ]
  },
  {
   "cell_type": "code",
   "execution_count": null,
   "metadata": {},
   "outputs": [],
   "source": [
    "df[df.code_departement == '67'].head(5)"
   ]
  },
  {
   "cell_type": "code",
   "execution_count": null,
   "metadata": {},
   "outputs": [],
   "source": [
    "len(df)"
   ]
  },
  {
   "cell_type": "code",
   "execution_count": null,
   "metadata": {},
   "outputs": [],
   "source": [
    "df.shape"
   ]
  },
  {
   "cell_type": "code",
   "execution_count": null,
   "metadata": {},
   "outputs": [],
   "source": [
    "df.head()"
   ]
  },
  {
   "cell_type": "code",
   "execution_count": null,
   "metadata": {},
   "outputs": [],
   "source": [
    "dataInt = df[[\"valeur_fonciere\", \"code_postal\", \"code_type_local\", \"longitude\", \"latitude\", \"surface_reelle_bati_sum\",\n",
    "              \"surface_terrain_sum\", \"nombre_pieces_principales_sum\", \"old_nbr_id_ligne\", \"Appartement_sum\",\n",
    "              \"Dépendance_sum\", \"Local industriel. commercial ou assimilé_sum\", \"Maison_sum\"]]\n",
    "\n",
    "corr = dataInt.corr()\n",
    "\n",
    "cmap = sns.diverging_palette(250, 10, as_cmap=True)\n",
    "\n",
    "sns.heatmap(corr, cmap=cmap,\n",
    "            xticklabels=corr.columns,\n",
    "            yticklabels=corr.columns,\n",
    "           annot=True)\n",
    "\n",
    "plt.show()"
   ]
  },
  {
   "cell_type": "code",
   "execution_count": null,
   "metadata": {},
   "outputs": [],
   "source": [
    "df2018 = df[df[\"Year\"] == 2018]"
   ]
  },
  {
   "cell_type": "code",
   "execution_count": null,
   "metadata": {},
   "outputs": [],
   "source": [
    "df2018.valeur_fonciere.sum()"
   ]
  },
  {
   "cell_type": "code",
   "execution_count": null,
   "metadata": {},
   "outputs": [],
   "source": [
    "dfaff = df2018.sample(frac=0.075)"
   ]
  },
  {
   "cell_type": "code",
   "execution_count": null,
   "metadata": {},
   "outputs": [],
   "source": [
    "dfaff.head()"
   ]
  },
  {
   "cell_type": "code",
   "execution_count": null,
   "metadata": {},
   "outputs": [],
   "source": [
    "dfaff = dfaff.drop(dfaff[dfaff.valeur_fonciere > 4000000].index)\n",
    "dfaff = dfaff.drop(dfaff[dfaff.valeur_fonciere < 2000].index)"
   ]
  },
  {
   "cell_type": "code",
   "execution_count": null,
   "metadata": {},
   "outputs": [],
   "source": [
    "mapbox_access_token = 'pk.eyJ1IjoiaGFybWFuYXgiLCJhIjoiY2p1OXk5OGNwMG9naDQ5b2IxdWhyZjJjMSJ9.eXRt5bLD9FMLM17aQuHWoA'"
   ]
  },
  {
   "cell_type": "code",
   "execution_count": null,
   "metadata": {},
   "outputs": [],
   "source": [
    "fig = go.Figure()\n",
    "my_text=['Commune : '+ co +\n",
    "         '<br>Valeur foncière : '+  '{:.0f}'.format(vf) +\n",
    "         '<br>Type local : '+ tl +\n",
    "         '<br>Nombre pièces : '+  '{:.0f}'.format(np) +\n",
    "         '<br>Surface batiment : '+  '{:.0f}'.format(sb) + ' m²' +\n",
    "         '<br>Surface Terrain : '+  '{:.0f}'.format(st) + ' m²'\n",
    "         \n",
    "         \n",
    "  for co, vf, tl, np, sb, st in zip(list(dfaff['nom_commune']), list(dfaff['valeur_fonciere']),\n",
    "                                 list(dfaff['type_local']), list(dfaff['nombre_pieces_principales_sum']),\n",
    "                                 list(dfaff['surface_reelle_bati_sum']), list(dfaff['surface_terrain_sum'])) ] \n",
    "\n",
    "\n",
    "\n",
    "fig.add_scattermapbox(lon=dfaff['longitude'],\n",
    "                lat=dfaff['latitude'],\n",
    "                mode='markers',\n",
    "                text=my_text,\n",
    "                hoverinfo='text',\n",
    "                name = 'valeur foncière',\n",
    "                hoverlabel={'bgcolor' : 'seashell'},\n",
    "                marker={\n",
    "                        'showscale': True,\n",
    "                        'color': dfaff['valeur_fonciere'],\n",
    "                        'opacity': 0.6,\n",
    "                        'colorscale': 'Rainbow',\n",
    "                        'reversescale' : False\n",
    "                       });\n",
    "\n",
    "fig.layout = dict(\n",
    "    title='Valeur foncière des batiments en France',\n",
    "         mapbox=go.layout.Mapbox(\n",
    "         accesstoken=mapbox_access_token,\n",
    "         bearing=0,\n",
    "         center=go.layout.mapbox.Center(\n",
    "             lat=48,\n",
    "             lon=2.5\n",
    "        ),\n",
    "         pitch=0,\n",
    "         zoom=6\n",
    "    ),\n",
    ")\n",
    "\n",
    "\n",
    "plotly.offline.plot(fig, filename='valeur_fonciere')"
   ]
  },
  {
   "cell_type": "markdown",
   "metadata": {},
   "source": [
    "# aucune donnée sur tout l'est français (strasbourg, metz, etc...)"
   ]
  },
  {
   "cell_type": "code",
   "execution_count": null,
   "metadata": {},
   "outputs": [],
   "source": [
    "dfaff = df[df[\"surface_reelle_bati_sum\"]>0].sample(frac=0.08)"
   ]
  },
  {
   "cell_type": "code",
   "execution_count": null,
   "metadata": {},
   "outputs": [],
   "source": [
    "dfaff.head()"
   ]
  },
  {
   "cell_type": "code",
   "execution_count": null,
   "metadata": {},
   "outputs": [],
   "source": [
    "dfbati['mcarre'] = dfbati.apply(mcarre, axis=1)"
   ]
  },
  {
   "cell_type": "code",
   "execution_count": null,
   "metadata": {},
   "outputs": [],
   "source": [
    "dfbati = dfbati.join(dfbati.groupby('code_departement')['mcarre'].mean(), on='code_departement', rsuffix='2')"
   ]
  },
  {
   "cell_type": "code",
   "execution_count": null,
   "metadata": {},
   "outputs": [],
   "source": [
    "dfbaticp = df[df[\"surface_reelle_bati_sum\"]>0].sample(frac=0.025)"
   ]
  },
  {
   "cell_type": "code",
   "execution_count": null,
   "metadata": {},
   "outputs": [],
   "source": [
    "dfbaticp = dfbaticp.drop(dfbaticp[dfbaticp.valeur_fonciere > 2900000].index)\n",
    "dfbaticp = dfbaticp.drop(dfbaticp[dfbaticp.surface_reelle_bati_sum < 10].index)"
   ]
  },
  {
   "cell_type": "code",
   "execution_count": null,
   "metadata": {},
   "outputs": [],
   "source": [
    "dfbaticp['mcarre'] = dfbaticp.apply(mcarre, axis=1)"
   ]
  },
  {
   "cell_type": "code",
   "execution_count": null,
   "metadata": {},
   "outputs": [],
   "source": [
    "dfbaticp = dfbaticp.join(dfbaticp.groupby('code_postal')['mcarre'].mean(), on='code_postal', rsuffix='2')"
   ]
  },
  {
   "cell_type": "code",
   "execution_count": null,
   "metadata": {},
   "outputs": [],
   "source": []
  },
  {
   "cell_type": "code",
   "execution_count": null,
   "metadata": {},
   "outputs": [],
   "source": [
    "df[\"mcarre\"].mean()"
   ]
  },
  {
   "cell_type": "code",
   "execution_count": null,
   "metadata": {},
   "outputs": [],
   "source": [
    "df.head()"
   ]
  },
  {
   "cell_type": "code",
   "execution_count": null,
   "metadata": {},
   "outputs": [],
   "source": [
    "def month_year_sales_mean(df, month, year):\n",
    "    double_conditional = df['mcarre'].loc[(df['Month'] == month) & (df['Year'] == year)].median()\n",
    "    return double_conditional"
   ]
  },
  {
   "cell_type": "code",
   "execution_count": null,
   "metadata": {},
   "outputs": [],
   "source": [
    "january_2014_mean = month_year_sales_mean(df, 1, 2014)\n",
    "february_2014_mean = month_year_sales_mean(df, 2, 2014)\n",
    "march_2014_mean = month_year_sales_mean(df, 3, 2014)\n",
    "april_2014_mean = month_year_sales_mean(df, 4, 2014)\n",
    "may_2014_mean = month_year_sales_mean(df, 5, 2014)\n",
    "june_2014_mean = month_year_sales_mean(df, 6, 2014)\n",
    "july_2014_mean = month_year_sales_mean(df, 7, 2014)\n",
    "august_2014_mean = month_year_sales_mean(df, 8, 2014)\n",
    "september_2014_mean = month_year_sales_mean(df, 9, 2014)\n",
    "october_2014_mean = month_year_sales_mean(df, 10, 2014)\n",
    "november_2014_mean = month_year_sales_mean(df, 11, 2014)\n",
    "december_2014_mean = month_year_sales_mean(df, 12, 2014)\n",
    "\n",
    "# Sales 2015\n",
    "january_2015_mean = month_year_sales_mean(df, 1, 2015)\n",
    "february_2015_mean = month_year_sales_mean(df, 2, 2015)\n",
    "march_2015_mean = month_year_sales_mean(df, 3, 2015)\n",
    "april_2015_mean = month_year_sales_mean(df, 4, 2015)\n",
    "may_2015_mean = month_year_sales_mean(df, 5, 2015)\n",
    "june_2015_mean = month_year_sales_mean(df, 6, 2015)\n",
    "july_2015_mean = month_year_sales_mean(df, 7, 2015)\n",
    "august_2015_mean = month_year_sales_mean(df, 8, 2015)\n",
    "september_2015_mean = month_year_sales_mean(df, 9, 2015)\n",
    "october_2015_mean = month_year_sales_mean(df, 10, 2015)\n",
    "november_2015_mean = month_year_sales_mean(df, 11, 2015)\n",
    "december_2015_mean = month_year_sales_mean(df, 12, 2015)\n",
    "\n",
    "\n",
    "january_2016_mean = month_year_sales_mean(df, 1, 2016)\n",
    "february_2016_mean = month_year_sales_mean(df, 2, 2016)\n",
    "march_2016_mean = month_year_sales_mean(df, 3, 2016)\n",
    "april_2016_mean = month_year_sales_mean(df, 4, 2016)\n",
    "may_2016_mean = month_year_sales_mean(df, 5, 2016)\n",
    "june_2016_mean = month_year_sales_mean(df, 6, 2016)\n",
    "july_2016_mean = month_year_sales_mean(df, 7, 2016)\n",
    "august_2016_mean = month_year_sales_mean(df, 8, 2016)\n",
    "september_2016_mean = month_year_sales_mean(df, 9, 2016)\n",
    "october_2016_mean = month_year_sales_mean(df, 10, 2016)\n",
    "november_2016_mean = month_year_sales_mean(df, 11, 2016)\n",
    "december_2016_mean = month_year_sales_mean(df, 12, 2016)\n",
    "\n",
    "# Sales 2017\n",
    "january_2017_mean = month_year_sales_mean(df, 1, 2017)\n",
    "february_2017_mean = month_year_sales_mean(df, 2, 2017)\n",
    "march_2017_mean = month_year_sales_mean(df, 3, 2017)\n",
    "april_2017_mean = month_year_sales_mean(df, 4, 2017)\n",
    "may_2017_mean = month_year_sales_mean(df, 5, 2017)\n",
    "june_2017_mean = month_year_sales_mean(df, 6, 2017)\n",
    "july_2017_mean = month_year_sales_mean(df, 7, 2017)\n",
    "august_2017_mean = month_year_sales_mean(df, 8, 2017)\n",
    "september_2017_mean = month_year_sales_mean(df, 9, 2017)\n",
    "october_2017_mean = month_year_sales_mean(df, 10, 2017)\n",
    "november_2017_mean = month_year_sales_mean(df, 11, 2017)\n",
    "december_2017_mean = month_year_sales_mean(df, 12, 2017)\n",
    "\n",
    "# Sales 2018 (Until May)\n",
    "january_2018_mean = month_year_sales_mean(df, 1, 2018)\n",
    "february_2018_mean = month_year_sales_mean(df, 2, 2018)\n",
    "march_2018_mean = month_year_sales_mean(df, 3, 2018)\n",
    "april_2018_mean = month_year_sales_mean(df, 4, 2018)\n",
    "may_2018_mean = month_year_sales_mean(df, 5, 2018)\n",
    "june_2018_mean = month_year_sales_mean(df, 6, 2018)\n",
    "july_2018_mean = month_year_sales_mean(df, 7, 2018)\n",
    "august_2018_mean = month_year_sales_mean(df, 8, 2018)\n",
    "september_2018_mean = month_year_sales_mean(df, 9, 2018)\n",
    "october_2018_mean = month_year_sales_mean(df, 10, 2017)\n",
    "november_2018_mean = month_year_sales_mean(df, 11, 2018)\n",
    "december_2018_mean = month_year_sales_mean(df, 12, 2018)\n"
   ]
  },
  {
   "cell_type": "code",
   "execution_count": null,
   "metadata": {},
   "outputs": [],
   "source": [
    "# List of values\n",
    "lst_2014_mean = [january_2014_mean, february_2014_mean, march_2014_mean, april_2014_mean, \n",
    "           may_2014_mean, june_2014_mean, july_2014_mean, august_2014_mean, \n",
    "           september_2014_mean, october_2014_mean, november_2014_mean, december_2014_mean]\n",
    "\n",
    "lst_2015_mean = [january_2015_mean, february_2015_mean, march_2015_mean, april_2015_mean, \n",
    "           may_2015_mean, june_2015_mean, july_2015_mean, august_2015_mean, \n",
    "           september_2015_mean, october_2015_mean, november_2015_mean, december_2015_mean]\n",
    "\n",
    "\n",
    "lst_2016_mean = [january_2016_mean, february_2016_mean, march_2016_mean, april_2016_mean, \n",
    "           may_2016_mean, june_2016_mean, july_2016_mean, august_2016_mean, \n",
    "           september_2016_mean, october_2016_mean, november_2016_mean, december_2016_mean]\n",
    "\n",
    "lst_2017_mean = [january_2017_mean, february_2017_mean, march_2017_mean, april_2017_mean, \n",
    "           may_2017_mean, june_2017_mean, july_2017_mean, august_2017_mean, \n",
    "           september_2017_mean, october_2017_mean, november_2017_mean, december_2017_mean]\n",
    "\n",
    "lst_2018_mean = [january_2018_mean, february_2018_mean, march_2018_mean, april_2018_mean, \n",
    "           may_2018_mean, june_2018_mean, july_2018_mean, august_2018_mean, \n",
    "           september_2018_mean, october_2018_mean, november_2018_mean, december_2018_mean]\n"
   ]
  },
  {
   "cell_type": "code",
   "execution_count": null,
   "metadata": {},
   "outputs": [],
   "source": [
    "plot_2014 = go.Scatter(\n",
    "    x=labels,\n",
    "    y=lst_2014_mean,\n",
    "    xaxis='x2',\n",
    "    yaxis='y2',\n",
    "    mode='lines+markers',\n",
    "    name='2014',\n",
    "    marker=dict(\n",
    "        color='rgba(255, 40, 255, 1)',\n",
    "        line=dict(\n",
    "            color='rgba(56, 56, 56, 1)',\n",
    "            width=1,\n",
    "        ),\n",
    "        symbol='circle',\n",
    "        size=8,\n",
    "    )\n",
    ")\n",
    "\n",
    "\n",
    "plot_2015 = go.Scatter(\n",
    "    x=labels,\n",
    "    y=lst_2015_mean,\n",
    "    xaxis='x2',\n",
    "    yaxis='y2',\n",
    "    mode='lines+markers',\n",
    "    name='2015',\n",
    "    marker=dict(\n",
    "        color='yellow',\n",
    "        line=dict(\n",
    "            color='rgba(56, 56, 56, 1)',\n",
    "            width=1,\n",
    "        ),\n",
    "        symbol='circle',\n",
    "        size=8,\n",
    "    )\n",
    ")\n",
    "\n",
    "\n",
    "plot_2016 = go.Scatter(\n",
    "    x=labels,\n",
    "    y=lst_2016_mean,\n",
    "    xaxis='x2',\n",
    "    yaxis='y2',\n",
    "    mode='lines+markers',\n",
    "    name='2016',\n",
    "    marker=dict(\n",
    "        color='red',\n",
    "        line=dict(\n",
    "            color='rgba(56, 56, 56, 1)',\n",
    "            width=1,\n",
    "        ),\n",
    "        symbol='circle',\n",
    "        size=8,\n",
    "    )\n",
    ")\n",
    "\n",
    "\n",
    "plot_2017 = go.Scatter(\n",
    "    x=labels,\n",
    "    y=lst_2017_mean,\n",
    "    xaxis='x2',\n",
    "    yaxis='y2',\n",
    "    mode='lines+markers',\n",
    "    name='2017',\n",
    "    marker=dict(\n",
    "        color='green',\n",
    "        line=dict(\n",
    "            color='rgba(56, 56, 56, 1)',\n",
    "            width=1,\n",
    "        ),\n",
    "        symbol='circle',\n",
    "        size=8,\n",
    "    )\n",
    ")\n",
    "\n",
    "plot_2018 = go.Scatter(\n",
    "    x=labels,\n",
    "    y=lst_2018_mean,\n",
    "    xaxis='x2',\n",
    "    yaxis='y2',\n",
    "    mode='lines+markers',\n",
    "    name='2018',\n",
    "    marker=dict(\n",
    "        color='blue',\n",
    "        line=dict(\n",
    "            color='rgba(56, 56, 56, 1)',\n",
    "            width=1,\n",
    "        ),\n",
    "        symbol='circle',\n",
    "        size=8,\n",
    "    )\n",
    ")\n",
    "\n",
    "data = [plot_2014, plot_2015, plot_2016, plot_2017, plot_2018]\n",
    "\n",
    "layout = go.Layout(\n",
    "    title=\"median mcarre price by Month for the Years <br> (2014, 2015, 2016, 2017, 2018)\",\n",
    "    xaxis=dict(\n",
    "        showgrid=False,\n",
    "        showline=True,\n",
    "        linecolor='rgb(102, 102, 102)',\n",
    "        titlefont=dict(\n",
    "            color='rgb(204, 204, 204)'\n",
    "        ),\n",
    "        tickfont=dict(\n",
    "            color='rgb(102, 102, 102)',\n",
    "        ),\n",
    "        dtick=10,\n",
    "        ticks='outside',\n",
    "        tickcolor='rgb(102, 102, 102)',\n",
    "    ),\n",
    "    margin=dict(\n",
    "        l=140,\n",
    "        r=40,\n",
    "        b=50,\n",
    "        t=80\n",
    "    ),\n",
    "    legend=dict(\n",
    "        font=dict(\n",
    "            size=10,\n",
    "        ),\n",
    "        yanchor='auto',\n",
    "        xanchor='auto',\n",
    "    ),\n",
    "    width=800,\n",
    "    height=600,\n",
    "    paper_bgcolor='rgb(255, 255, 224)',\n",
    "    plot_bgcolor='rgb(255, 255, 246)',\n",
    "    hovermode='closest',\n",
    ")\n",
    "\n",
    "fig = go.Figure(data=data, layout=layout)\n",
    "plotly.offline.plot(fig, filename='plot_vente_med_mcarre_mensuel_IDF')"
   ]
  },
  {
   "cell_type": "code",
   "execution_count": null,
   "metadata": {},
   "outputs": [],
   "source": [
    "dfparis = dfidf\n",
    "#dfparis = dfidf[dfidf.code_departement == 75]\n",
    "#dfparis = df[(df.code_departement == 92)]\n",
    "#dfparis = df[(df.code_departement == 78)]\n",
    "#dfparis = df[(df.code_departement == 94)]\n",
    "#dfparis = df[(df.code_departement == 69)]\n",
    "#dfparis = df[(df.code_commune == 37261)]"
   ]
  },
  {
   "cell_type": "code",
   "execution_count": null,
   "metadata": {},
   "outputs": [],
   "source": [
    "dfparis.head()"
   ]
  },
  {
   "cell_type": "code",
   "execution_count": null,
   "metadata": {},
   "outputs": [],
   "source": [
    "january_2014_mean = month_year_sales_mean(dfparis, 1, 2014)\n",
    "february_2014_mean = month_year_sales_mean(dfparis, 2, 2014)\n",
    "march_2014_mean = month_year_sales_mean(dfparis, 3, 2014)\n",
    "april_2014_mean = month_year_sales_mean(dfparis, 4, 2014)\n",
    "may_2014_mean = month_year_sales_mean(dfparis, 5, 2014)\n",
    "june_2014_mean = month_year_sales_mean(dfparis, 6, 2014)\n",
    "july_2014_mean = month_year_sales_mean(dfparis, 7, 2014)\n",
    "august_2014_mean = month_year_sales_mean(dfparis, 8, 2014)\n",
    "september_2014_mean = month_year_sales_mean(dfparis, 9, 2014)\n",
    "october_2014_mean = month_year_sales_mean(dfparis, 10, 2014)\n",
    "november_2014_mean = month_year_sales_mean(dfparis, 11, 2014)\n",
    "december_2014_mean = month_year_sales_mean(dfparis, 12, 2014)\n",
    "\n",
    "# Sales 2015\n",
    "january_2015_mean = month_year_sales_mean(dfparis, 1, 2015)\n",
    "february_2015_mean = month_year_sales_mean(dfparis, 2, 2015)\n",
    "march_2015_mean = month_year_sales_mean(dfparis, 3, 2015)\n",
    "april_2015_mean = month_year_sales_mean(dfparis, 4, 2015)\n",
    "may_2015_mean = month_year_sales_mean(dfparis, 5, 2015)\n",
    "june_2015_mean = month_year_sales_mean(dfparis, 6, 2015)\n",
    "july_2015_mean = month_year_sales_mean(dfparis, 7, 2015)\n",
    "august_2015_mean = month_year_sales_mean(dfparis, 8, 2015)\n",
    "september_2015_mean = month_year_sales_mean(dfparis, 9, 2015)\n",
    "october_2015_mean = month_year_sales_mean(dfparis, 10, 2015)\n",
    "november_2015_mean = month_year_sales_mean(dfparis, 11, 2015)\n",
    "december_2015_mean = month_year_sales_mean(dfparis, 12, 2015)\n",
    "\n",
    "\n",
    "january_2016_mean = month_year_sales_mean(dfparis, 1, 2016)\n",
    "february_2016_mean = month_year_sales_mean(dfparis, 2, 2016)\n",
    "march_2016_mean = month_year_sales_mean(dfparis, 3, 2016)\n",
    "april_2016_mean = month_year_sales_mean(dfparis, 4, 2016)\n",
    "may_2016_mean = month_year_sales_mean(dfparis, 5, 2016)\n",
    "june_2016_mean = month_year_sales_mean(dfparis, 6, 2016)\n",
    "july_2016_mean = month_year_sales_mean(dfparis, 7, 2016)\n",
    "august_2016_mean = month_year_sales_mean(dfparis, 8, 2016)\n",
    "september_2016_mean = month_year_sales_mean(dfparis, 9, 2016)\n",
    "october_2016_mean = month_year_sales_mean(dfparis, 10, 2016)\n",
    "november_2016_mean = month_year_sales_mean(dfparis, 11, 2016)\n",
    "december_2016_mean = month_year_sales_mean(dfparis, 12, 2016)\n",
    "\n",
    "# Sales 2017\n",
    "january_2017_mean = month_year_sales_mean(dfparis, 1, 2017)\n",
    "february_2017_mean = month_year_sales_mean(dfparis, 2, 2017)\n",
    "march_2017_mean = month_year_sales_mean(dfparis, 3, 2017)\n",
    "april_2017_mean = month_year_sales_mean(dfparis, 4, 2017)\n",
    "may_2017_mean = month_year_sales_mean(dfparis, 5, 2017)\n",
    "june_2017_mean = month_year_sales_mean(dfparis, 6, 2017)\n",
    "july_2017_mean = month_year_sales_mean(dfparis, 7, 2017)\n",
    "august_2017_mean = month_year_sales_mean(dfparis, 8, 2017)\n",
    "september_2017_mean = month_year_sales_mean(dfparis, 9, 2017)\n",
    "october_2017_mean = month_year_sales_mean(dfparis, 10, 2017)\n",
    "november_2017_mean = month_year_sales_mean(dfparis, 11, 2017)\n",
    "december_2017_mean = month_year_sales_mean(dfparis, 12, 2017)\n",
    "\n",
    "# Sales 2018 (Until May)\n",
    "january_2018_mean = month_year_sales_mean(dfparis, 1, 2018)\n",
    "february_2018_mean = month_year_sales_mean(dfparis, 2, 2018)\n",
    "march_2018_mean = month_year_sales_mean(dfparis, 3, 2018)\n",
    "april_2018_mean = month_year_sales_mean(dfparis, 4, 2018)\n",
    "may_2018_mean = month_year_sales_mean(dfparis, 5, 2018)\n",
    "june_2018_mean = month_year_sales_mean(dfparis, 6, 2018)\n",
    "july_2018_mean = month_year_sales_mean(dfparis, 7, 2018)\n",
    "august_2018_mean = month_year_sales_mean(dfparis, 8, 2018)\n",
    "september_2018_mean = month_year_sales_mean(dfparis, 9, 2018)\n",
    "october_2018_mean = month_year_sales_mean(dfparis, 10, 2017)\n",
    "november_2018_mean = month_year_sales_mean(dfparis, 11, 2018)\n",
    "december_2018_mean = month_year_sales_mean(dfparis, 12, 2018)\n"
   ]
  },
  {
   "cell_type": "code",
   "execution_count": null,
   "metadata": {},
   "outputs": [],
   "source": [
    "# List of values\n",
    "lst_2014_mean = [january_2014_mean, february_2014_mean, march_2014_mean, april_2014_mean, \n",
    "           may_2014_mean, june_2014_mean, july_2014_mean, august_2014_mean, \n",
    "           september_2014_mean, october_2014_mean, november_2014_mean, december_2014_mean]\n",
    "\n",
    "lst_2015_mean = [january_2015_mean, february_2015_mean, march_2015_mean, april_2015_mean, \n",
    "           may_2015_mean, june_2015_mean, july_2015_mean, august_2015_mean, \n",
    "           september_2015_mean, october_2015_mean, november_2015_mean, december_2015_mean]\n",
    "\n",
    "\n",
    "lst_2016_mean = [january_2016_mean, february_2016_mean, march_2016_mean, april_2016_mean, \n",
    "           may_2016_mean, june_2016_mean, july_2016_mean, august_2016_mean, \n",
    "           september_2016_mean, october_2016_mean, november_2016_mean, december_2016_mean]\n",
    "\n",
    "lst_2017_mean = [january_2017_mean, february_2017_mean, march_2017_mean, april_2017_mean, \n",
    "           may_2017_mean, june_2017_mean, july_2017_mean, august_2017_mean, \n",
    "           september_2017_mean, october_2017_mean, november_2017_mean, december_2017_mean]\n",
    "\n",
    "lst_2018_mean = [january_2018_mean, february_2018_mean, march_2018_mean, april_2018_mean, \n",
    "           may_2018_mean, june_2018_mean, july_2018_mean, august_2018_mean, \n",
    "           september_2018_mean, october_2018_mean, november_2018_mean, december_2018_mean]\n"
   ]
  },
  {
   "cell_type": "code",
   "execution_count": null,
   "metadata": {},
   "outputs": [],
   "source": [
    "plot_2014 = go.Scatter(\n",
    "    x=labels,\n",
    "    y=lst_2014_mean,\n",
    "    xaxis='x2',\n",
    "    yaxis='y2',\n",
    "    mode='lines+markers',\n",
    "    name='2014',\n",
    "    marker=dict(\n",
    "        color='rgba(255, 40, 255, 1)',\n",
    "        line=dict(\n",
    "            color='rgba(56, 56, 56, 1)',\n",
    "            width=1,\n",
    "        ),\n",
    "        symbol='circle',\n",
    "        size=8,\n",
    "    )\n",
    ")\n",
    "\n",
    "\n",
    "plot_2015 = go.Scatter(\n",
    "    x=labels,\n",
    "    y=lst_2015_mean,\n",
    "    xaxis='x2',\n",
    "    yaxis='y2',\n",
    "    mode='lines+markers',\n",
    "    name='2015',\n",
    "    marker=dict(\n",
    "        color='black',\n",
    "        line=dict(\n",
    "            color='rgba(56, 56, 56, 1)',\n",
    "            width=1,\n",
    "        ),\n",
    "        symbol='circle',\n",
    "        size=8,\n",
    "    )\n",
    ")\n",
    "\n",
    "\n",
    "plot_2016 = go.Scatter(\n",
    "    x=labels,\n",
    "    y=lst_2016_mean,\n",
    "    xaxis='x2',\n",
    "    yaxis='y2',\n",
    "    mode='lines+markers',\n",
    "    name='2016',\n",
    "    marker=dict(\n",
    "        color='red',\n",
    "        line=dict(\n",
    "            color='rgba(56, 56, 56, 1)',\n",
    "            width=1,\n",
    "        ),\n",
    "        symbol='circle',\n",
    "        size=8,\n",
    "    )\n",
    ")\n",
    "\n",
    "\n",
    "plot_2017 = go.Scatter(\n",
    "    x=labels,\n",
    "    y=lst_2017_mean,\n",
    "    xaxis='x2',\n",
    "    yaxis='y2',\n",
    "    mode='lines+markers',\n",
    "    name='2017',\n",
    "    marker=dict(\n",
    "        color='green',\n",
    "        line=dict(\n",
    "            color='rgba(56, 56, 56, 1)',\n",
    "            width=1,\n",
    "        ),\n",
    "        symbol='circle',\n",
    "        size=8,\n",
    "    )\n",
    ")\n",
    "\n",
    "plot_2018 = go.Scatter(\n",
    "    x=labels,\n",
    "    y=lst_2018_mean,\n",
    "    xaxis='x2',\n",
    "    yaxis='y2',\n",
    "    mode='lines+markers',\n",
    "    name='2018',\n",
    "    marker=dict(\n",
    "        color='blue',\n",
    "        line=dict(\n",
    "            color='rgba(56, 56, 56, 1)',\n",
    "            width=1,\n",
    "        ),\n",
    "        symbol='circle',\n",
    "        size=8,\n",
    "    )\n",
    ")\n",
    "\n",
    "data = [plot_2014, plot_2015, plot_2016, plot_2017, plot_2018]\n",
    "\n",
    "layout = go.Layout(\n",
    "    title=\"IDF : median mcarre price by Month for the Years <br> (2014, 2015, 2016, 2017, 2018)\",\n",
    "    xaxis=dict(\n",
    "        showgrid=False,\n",
    "        showline=True,\n",
    "        linecolor='rgb(102, 102, 102)',\n",
    "        titlefont=dict(\n",
    "            color='rgb(204, 204, 204)'\n",
    "        ),\n",
    "        tickfont=dict(\n",
    "            color='rgb(102, 102, 102)',\n",
    "        ),\n",
    "        dtick=10,\n",
    "        ticks='outside',\n",
    "        tickcolor='rgb(102, 102, 102)',\n",
    "    ),\n",
    "    margin=dict(\n",
    "        l=140,\n",
    "        r=40,\n",
    "        b=50,\n",
    "        t=80\n",
    "    ),\n",
    "    legend=dict(\n",
    "        font=dict(\n",
    "            size=10,\n",
    "        ),\n",
    "        yanchor='auto',\n",
    "        xanchor='auto',\n",
    "    ),\n",
    "    width=800,\n",
    "    height=600,\n",
    "    paper_bgcolor='rgb(255, 255, 224)',\n",
    "    plot_bgcolor='rgb(255, 255, 246)',\n",
    "    hovermode='closest',\n",
    ")\n",
    "\n",
    "fig = go.Figure(data=data, layout=layout)\n",
    "plotly.offline.plot(fig, filename='plot_vente_med_mcarre_mensuel_IDF')"
   ]
  },
  {
   "cell_type": "code",
   "execution_count": null,
   "metadata": {},
   "outputs": [],
   "source": [
    "plot_2014 = go.Scatter(\n",
    "    x=labels,\n",
    "    y=lst_2014_count,\n",
    "    xaxis='x2',\n",
    "    yaxis='y2',\n",
    "    mode='markers',\n",
    "    name='2014',\n",
    "    marker=dict(\n",
    "        color='rgba(255, 40, 255, 1)',\n",
    "        line=dict(\n",
    "            color='rgba(56, 56, 56, 1)',\n",
    "            width=1.5,\n",
    "        ),\n",
    "        symbol='circle',\n",
    "        size=16,\n",
    "    )\n",
    ")\n",
    "\n",
    "\n",
    "plot_2015 = go.Scatter(\n",
    "    x=labels,\n",
    "    y=lst_2015_count,\n",
    "    xaxis='x2',\n",
    "    yaxis='y2',\n",
    "    mode='markers',\n",
    "    name='2015',\n",
    "    marker=dict(\n",
    "        color='yellow',\n",
    "        line=dict(\n",
    "            color='rgba(56, 56, 56, 1)',\n",
    "            width=1.5,\n",
    "        ),\n",
    "        symbol='circle',\n",
    "        size=16,\n",
    "    )\n",
    ")\n",
    "\n",
    "\n",
    "plot_2016 = go.Scatter(\n",
    "    x=labels,\n",
    "    y=lst_2016_count,\n",
    "    xaxis='x2',\n",
    "    yaxis='y2',\n",
    "    mode='markers',\n",
    "    name='2016',\n",
    "    marker=dict(\n",
    "        color='red',\n",
    "        line=dict(\n",
    "            color='rgba(56, 56, 56, 1)',\n",
    "            width=1.5,\n",
    "        ),\n",
    "        symbol='circle',\n",
    "        size=16,\n",
    "    )\n",
    ")\n",
    "\n",
    "\n",
    "plot_2017 = go.Scatter(\n",
    "    x=labels,\n",
    "    y=lst_2017_count,\n",
    "    xaxis='x2',\n",
    "    yaxis='y2',\n",
    "    mode='markers',\n",
    "    name='2017',\n",
    "    marker=dict(\n",
    "        color='green',\n",
    "        line=dict(\n",
    "            color='rgba(56, 56, 56, 1)',\n",
    "            width=1.5,\n",
    "        ),\n",
    "        symbol='circle',\n",
    "        size=16,\n",
    "    )\n",
    ")\n",
    "\n",
    "plot_2018 = go.Scatter(\n",
    "    x=labels,\n",
    "    y=lst_2018_count,\n",
    "    xaxis='x2',\n",
    "    yaxis='y2',\n",
    "    mode='markers',\n",
    "    name='2018',\n",
    "    marker=dict(\n",
    "        color='blue',\n",
    "        line=dict(\n",
    "            color='rgba(56, 56, 56, 1)',\n",
    "            width=1.5,\n",
    "        ),\n",
    "        symbol='circle',\n",
    "        size=16,\n",
    "    )\n",
    ")\n",
    "\n",
    "data = [plot_2014, plot_2015, plot_2016, plot_2017, plot_2018]\n",
    "\n",
    "layout = go.Layout(\n",
    "    title=\"Number of sales by Month for the Years <br> (2014, 2015, 2016, 2017, 2018)\",\n",
    "    xaxis=dict(\n",
    "        showgrid=False,\n",
    "        showline=True,\n",
    "        linecolor='rgb(102, 102, 102)',\n",
    "        titlefont=dict(\n",
    "            color='rgb(204, 204, 204)'\n",
    "        ),\n",
    "        tickfont=dict(\n",
    "            color='rgb(102, 102, 102)',\n",
    "        ),\n",
    "        dtick=10,\n",
    "        ticks='outside',\n",
    "        tickcolor='rgb(102, 102, 102)',\n",
    "    ),\n",
    "    margin=dict(\n",
    "        l=140,\n",
    "        r=40,\n",
    "        b=50,\n",
    "        t=80\n",
    "    ),\n",
    "    legend=dict(\n",
    "        font=dict(\n",
    "            size=10,\n",
    "        ),\n",
    "        yanchor='auto',\n",
    "        xanchor='auto',\n",
    "    ),\n",
    "    width=800,\n",
    "    height=600,\n",
    "    paper_bgcolor='rgb(255, 255, 224)',\n",
    "    plot_bgcolor='rgb(255, 255, 246)',\n",
    "    hovermode='closest',\n",
    ")\n",
    "\n",
    "fig = go.Figure(data=data, layout=layout)\n",
    "plotly.offline.plot(fig, filename='plot_nbvente_cumule_mensuel_FR')"
   ]
  },
  {
   "cell_type": "code",
   "execution_count": null,
   "metadata": {},
   "outputs": [],
   "source": []
  },
  {
   "cell_type": "code",
   "execution_count": null,
   "metadata": {},
   "outputs": [],
   "source": [
    "fig = go.Figure()\n",
    "my_text=['Commune : '+ co +\n",
    "         '<br>Valeur foncière : '+  '{:.0f}'.format(vf) +\n",
    "         '<br>Type local : '+ tl +\n",
    "         '<br>Nombre pièces : '+  '{:.0f}'.format(np) +\n",
    "         '<br>Surface batiment : '+  '{:.0f}'.format(sb) + ' m²' +\n",
    "         '<br>Surface Terrain : '+  '{:.0f}'.format(st) + ' m²'\n",
    "         \n",
    "         \n",
    "  for co, vf, tl, np, sb, st in zip(list(dfaff['nom_commune']), list(dfaff['valeur_fonciere']),\n",
    "                                 list(dfaff['type_local']), list(dfaff['nombre_pieces_principales_sum']),\n",
    "                                 list(dfaff['surface_reelle_bati_sum']), list(dfaff['surface_terrain_sum'])) ]\n",
    "\n",
    "\n",
    "fig.add_scattermapbox(lon=dfaff['longitude'],\n",
    "                lat=dfaff['latitude'],\n",
    "                mode='markers',\n",
    "                text=my_text,\n",
    "                hoverinfo='text',\n",
    "                name = 'valeur foncière',\n",
    "                hoverlabel={'bgcolor' : 'seashell'},\n",
    "                marker={\n",
    "                        'showscale': True,\n",
    "                        'color': dfaff['mcarre2'],\n",
    "                        'opacity': 0.6,\n",
    "                        'colorscale': 'hot',\n",
    "                        'reversescale' : False\n",
    "                       });\n",
    "\n",
    "fig.layout = dict(\n",
    "    title='Valeur foncière des batiments en France en 2018',\n",
    "         mapbox=go.layout.Mapbox(\n",
    "         accesstoken=mapbox_access_token,\n",
    "         bearing=0,\n",
    "         center=go.layout.mapbox.Center(\n",
    "             lat=48,\n",
    "             lon=2.5\n",
    "        ),\n",
    "         pitch=0,\n",
    "         zoom=6\n",
    "    ),\n",
    ")\n",
    "\n",
    "plotly.offline.plot(fig, filename='price_m2_2018_FR')"
   ]
  },
  {
   "cell_type": "code",
   "execution_count": null,
   "metadata": {},
   "outputs": [],
   "source": [
    "dfbati = dfaff[dfaff[\"surface_reelle_bati_sum\"]>0]"
   ]
  },
  {
   "cell_type": "code",
   "execution_count": null,
   "metadata": {},
   "outputs": [],
   "source": [
    "dfaff.head()"
   ]
  },
  {
   "cell_type": "code",
   "execution_count": null,
   "metadata": {},
   "outputs": [],
   "source": [
    "fig = go.Figure()\n",
    "my_text=['Commune : '+ co +\n",
    "         '<br>Valeur foncière : '+  '{:.0f}'.format(vf) +\n",
    "         '<br>Type local : '+ tl +\n",
    "         '<br>Nombre pièces : '+  '{:.0f}'.format(np) +\n",
    "         '<br>Surface batiment : '+  '{:.0f}'.format(sb) + ' m²' +\n",
    "         '<br>Surface Terrain : '+  '{:.0f}'.format(st) + ' m²' +\n",
    "         '<br>prix m² : '+  '{:.0f}'.format(mc)\n",
    "         \n",
    "         \n",
    "  for co, vf, tl, np, sb, st, mc in zip(list(dfbati['nom_commune']), list(dfbati['valeur_fonciere']),\n",
    "                                 list(dfbati['type_local']), list(dfbati['nombre_pieces_principales_sum']),\n",
    "                                 list(dfbati['surface_reelle_bati_sum']), list(dfbati['surface_terrain_sum']),\n",
    "                                 list(dfbati['mcarre2']))]\n",
    "\n",
    "\n",
    "fig.add_scattermapbox(lon=dfbati['longitude'],\n",
    "                lat=dfbati['latitude'],\n",
    "                mode='markers',\n",
    "                text=my_text,\n",
    "                hoverinfo='text',\n",
    "                name = 'valeur foncière',\n",
    "                hoverlabel={'bgcolor' : 'seashell'},\n",
    "                marker={\n",
    "                        'showscale': True,\n",
    "                        'color': dfbati['mcarre2'],\n",
    "                        'opacity': 0.6,\n",
    "                        'colorscale': 'hot',\n",
    "                        'reversescale' : False\n",
    "                       });\n",
    "\n",
    "fig.layout = dict(\n",
    "    title='Valeur foncière des batiments en France',\n",
    "         mapbox=go.layout.Mapbox(\n",
    "         accesstoken=mapbox_access_token,\n",
    "         bearing=0,\n",
    "         center=go.layout.mapbox.Center(\n",
    "             lat=48,\n",
    "             lon=2.5\n",
    "        ),\n",
    "         pitch=0,\n",
    "         zoom=6\n",
    "    ),\n",
    ")\n",
    "\n",
    "plotly.offline.plot(fig, filename='price_m2_batiment_FR')"
   ]
  },
  {
   "cell_type": "code",
   "execution_count": null,
   "metadata": {},
   "outputs": [],
   "source": []
  },
  {
   "cell_type": "code",
   "execution_count": null,
   "metadata": {},
   "outputs": [],
   "source": [
    "df[(df[\"nom_commune\"]==\"Lons-le-Saunier\") & (df[\"Year\"]==2018) & (df[\"adresse_nom_voie\"]==\"RUE JEAN MONNET\")].head(30)"
   ]
  },
  {
   "cell_type": "code",
   "execution_count": null,
   "metadata": {},
   "outputs": [],
   "source": [
    "dflite = df.sample(frac=0.01)"
   ]
  },
  {
   "cell_type": "code",
   "execution_count": null,
   "metadata": {},
   "outputs": [],
   "source": [
    "dflite2 = df[[\"id_mutation\", \"date_mutation\", \"id_parcelle\", \"lot1_numero\"]].groupby([\"id_parcelle\", \"lot1_numero\"]).count()"
   ]
  },
  {
   "cell_type": "code",
   "execution_count": null,
   "metadata": {},
   "outputs": [],
   "source": [
    "dflite2 = dflite2.sort_values(by=['id_mutation'], ascending=False)"
   ]
  },
  {
   "cell_type": "code",
   "execution_count": null,
   "metadata": {},
   "outputs": [],
   "source": [
    "dflite2.head()"
   ]
  },
  {
   "cell_type": "code",
   "execution_count": null,
   "metadata": {
    "scrolled": true
   },
   "outputs": [],
   "source": [
    "df[df[\"id_parcelle\"]== \"731570000F2251\"]"
   ]
  },
  {
   "cell_type": "code",
   "execution_count": null,
   "metadata": {},
   "outputs": [],
   "source": [
    "df[df[\"id_parcelle\"]== \"12202000BH0818\"][[\"id_mutation\", \"id_parcelle\", \"date_mutation\", \"valeur_fonciere\", \"lot1_numero\", \"code_type_local\", \"nombre_lots_sum\", \"surface_reelle_bati_sum\", \"nombre_pieces_principales_sum\"]]"
   ]
  },
  {
   "cell_type": "code",
   "execution_count": null,
   "metadata": {
    "scrolled": true
   },
   "outputs": [],
   "source": [
    "df[(df[\"id_parcelle\"]== \"01053000BE0195\") & (df[\"lot1_numero\"] == \"252.0\")]"
   ]
  },
  {
   "cell_type": "code",
   "execution_count": null,
   "metadata": {},
   "outputs": [],
   "source": [
    "df3[(df3[\"id_parcelle\"]== \"731570000F2251\") & (df3[\"lot1_numero\"] == \"101\")]"
   ]
  },
  {
   "cell_type": "code",
   "execution_count": null,
   "metadata": {},
   "outputs": [],
   "source": [
    "df3[(df3[\"id_parcelle\"]== \"01053000BE0195\") & (df3[\"id_mutation\"] == \"2016-614\")]"
   ]
  },
  {
   "cell_type": "code",
   "execution_count": null,
   "metadata": {},
   "outputs": [],
   "source": [
    "df[(df[\"lot1_numero\"]== \"4.0\") & (df[\"id_parcelle\"] == \"75108000BX0086\")]"
   ]
  },
  {
   "cell_type": "code",
   "execution_count": null,
   "metadata": {},
   "outputs": [],
   "source": []
  },
  {
   "cell_type": "markdown",
   "metadata": {},
   "source": [
    "# Affichage de la carte des prix au m²"
   ]
  },
  {
   "cell_type": "code",
   "execution_count": null,
   "metadata": {},
   "outputs": [],
   "source": [
    "df = df.drop(df[df.valeur_fonciere > 5000000].index)"
   ]
  },
  {
   "cell_type": "code",
   "execution_count": null,
   "metadata": {},
   "outputs": [],
   "source": [
    "df2014 = df[(df[\"Year\"] == 2014) & (df[\"surface_reelle_bati_sum\"]>10)]"
   ]
  },
  {
   "cell_type": "code",
   "execution_count": null,
   "metadata": {},
   "outputs": [],
   "source": [
    "df2014['mcarre'] = df2014.apply(mcarre, axis=1)"
   ]
  },
  {
   "cell_type": "code",
   "execution_count": null,
   "metadata": {},
   "outputs": [],
   "source": [
    "df2014 = df2014.join(df2014.groupby('code_postal')['mcarre'].median(), on='code_postal', rsuffix='2')"
   ]
  },
  {
   "cell_type": "code",
   "execution_count": null,
   "metadata": {},
   "outputs": [],
   "source": [
    "dfaff2014 = df2014.sample(frac=0.07)"
   ]
  },
  {
   "cell_type": "code",
   "execution_count": null,
   "metadata": {},
   "outputs": [],
   "source": [
    "df2015 = df[(df[\"Year\"] == 2015) & (df[\"surface_reelle_bati_sum\"]>10)]"
   ]
  },
  {
   "cell_type": "code",
   "execution_count": null,
   "metadata": {},
   "outputs": [],
   "source": [
    "df2015['mcarre'] = df2015.apply(mcarre, axis=1)"
   ]
  },
  {
   "cell_type": "code",
   "execution_count": null,
   "metadata": {},
   "outputs": [],
   "source": [
    "df2015 = df2015.join(df2015.groupby('code_postal')['mcarre'].median(), on='code_postal', rsuffix='2')"
   ]
  },
  {
   "cell_type": "code",
   "execution_count": null,
   "metadata": {},
   "outputs": [],
   "source": [
    "dfaff2015 = df2015.sample(frac=0.07)"
   ]
  },
  {
   "cell_type": "code",
   "execution_count": null,
   "metadata": {},
   "outputs": [],
   "source": [
    "df2016 = df[(df[\"Year\"] == 2016) & (df[\"surface_reelle_bati_sum\"]>10)]"
   ]
  },
  {
   "cell_type": "code",
   "execution_count": null,
   "metadata": {},
   "outputs": [],
   "source": [
    "df2016['mcarre'] = df2016.apply(mcarre, axis=1)"
   ]
  },
  {
   "cell_type": "code",
   "execution_count": null,
   "metadata": {},
   "outputs": [],
   "source": [
    "df2016 = df2016.join(df2016.groupby('code_postal')['mcarre'].median(), on='code_postal', rsuffix='2')"
   ]
  },
  {
   "cell_type": "code",
   "execution_count": null,
   "metadata": {},
   "outputs": [],
   "source": [
    "dfaff2016 = df2016.sample(frac=0.07)"
   ]
  },
  {
   "cell_type": "code",
   "execution_count": null,
   "metadata": {},
   "outputs": [],
   "source": [
    "df2017 = df[(df[\"Year\"] == 2017) & (df[\"surface_reelle_bati_sum\"]>10)]"
   ]
  },
  {
   "cell_type": "code",
   "execution_count": null,
   "metadata": {},
   "outputs": [],
   "source": [
    "df2017['mcarre'] = df2017.apply(mcarre, axis=1)"
   ]
  },
  {
   "cell_type": "code",
   "execution_count": null,
   "metadata": {},
   "outputs": [],
   "source": [
    "df2017 = df2017.join(df2017.groupby('code_postal')['mcarre'].median(), on='code_postal', rsuffix='2')"
   ]
  },
  {
   "cell_type": "code",
   "execution_count": null,
   "metadata": {},
   "outputs": [],
   "source": [
    "dfaff2017 = df2017.sample(frac=0.07)"
   ]
  },
  {
   "cell_type": "code",
   "execution_count": null,
   "metadata": {},
   "outputs": [],
   "source": [
    "df2018 = df[(df[\"Year\"] == 2018) & (df[\"surface_reelle_bati_sum\"]>10)]"
   ]
  },
  {
   "cell_type": "code",
   "execution_count": null,
   "metadata": {},
   "outputs": [],
   "source": [
    "df2018['mcarre'] = df2018.apply(mcarre, axis=1)"
   ]
  },
  {
   "cell_type": "code",
   "execution_count": null,
   "metadata": {},
   "outputs": [],
   "source": [
    "df2018 = df2018.join(df2018.groupby('code_postal')['mcarre'].median(), on='code_postal', rsuffix='2')"
   ]
  },
  {
   "cell_type": "code",
   "execution_count": null,
   "metadata": {},
   "outputs": [],
   "source": [
    "dfaff2018 = df2018.sample(frac=0.07)"
   ]
  },
  {
   "cell_type": "code",
   "execution_count": null,
   "metadata": {},
   "outputs": [],
   "source": [
    "dfaff2014.head()"
   ]
  },
  {
   "cell_type": "code",
   "execution_count": null,
   "metadata": {},
   "outputs": [],
   "source": [
    "my_text1=['Commune : '+ co +\n",
    "         '<br>Valeur foncière : '+  '{:.0f}'.format(vf) +\n",
    "         '<br>Maison : '+ '{:.0f}'.format(ma) +\n",
    "         '<br>Appartement : '+ '{:.0f}'.format(ap) +\n",
    "         '<br>Dépendances : '+ '{:.0f}'.format(de) +\n",
    "         '<br>Local indus : '+ '{:.0f}'.format(lo) +\n",
    "         '<br>Terrain simple : '+ '{:.0f}'.format(te) +\n",
    "         '<br>Nombre pièces : '+  '{:.0f}'.format(np) +\n",
    "         '<br>Surface batiment : '+  '{:.0f}'.format(sb) + ' m²' +\n",
    "         '<br>Surface Terrain : '+  '{:.0f}'.format(st) + ' m²' +\n",
    "         '<br>prix m² : '+  '{:.0f}'.format(mc) +\n",
    "         '<br>Année : 2014 '\n",
    "         \n",
    "         \n",
    "  for co, vf, ma, ap, de, lo, te, np, sb, st, mc in zip(list(dfaff2014['nom_commune']), list(dfaff2014['valeur_fonciere']),\n",
    "                                     list(dfaff2014['Maison_sum']), list(dfaff2014['Appartement_sum']),\n",
    "                                     list(dfaff2014['Dépendance_sum']), list(dfaff2014['Local industriel. commercial ou assimilé_sum']),\n",
    "                                     list(dfaff2014['Terrain simple_sum']), list(dfaff2014['nombre_pieces_principales_sum']),\n",
    "                                     list(dfaff2014['surface_reelle_bati_sum']), list(dfaff2014['surface_terrain_sum']),\n",
    "                                     list(dfaff2014['mcarre2']))]"
   ]
  },
  {
   "cell_type": "code",
   "execution_count": null,
   "metadata": {},
   "outputs": [],
   "source": [
    "my_text2=['Commune : '+ co +\n",
    "         '<br>Valeur foncière : '+  '{:.0f}'.format(vf) +\n",
    "         '<br>Maison : '+ '{:.0f}'.format(ma) +\n",
    "         '<br>Appartement : '+ '{:.0f}'.format(ap) +\n",
    "         '<br>Dépendances : '+ '{:.0f}'.format(de) +\n",
    "         '<br>Local indus : '+ '{:.0f}'.format(lo) +\n",
    "         '<br>Terrain simple : '+ '{:.0f}'.format(te) +\n",
    "         '<br>Nombre pièces : '+  '{:.0f}'.format(np) +\n",
    "         '<br>Surface batiment : '+  '{:.0f}'.format(sb) + ' m²' +\n",
    "         '<br>Surface Terrain : '+  '{:.0f}'.format(st) + ' m²' +\n",
    "         '<br>prix m² : '+  '{:.0f}'.format(mc) +\n",
    "         '<br>Année : 2015 '\n",
    "         \n",
    "         \n",
    "  for co, vf, ma, ap, de, lo, te, np, sb, st, mc in zip(list(dfaff2015['nom_commune']), list(dfaff2015['valeur_fonciere']),\n",
    "                                 list(dfaff2015['Maison_sum']), list(dfaff2015['Appartement_sum']),\n",
    "                                 list(dfaff2015['Dépendance_sum']), list(dfaff2015['Local industriel. commercial ou assimilé_sum']),\n",
    "                                 list(dfaff2015['Terrain simple_sum']), list(dfaff2015['nombre_pieces_principales_sum']),\n",
    "                                 list(dfaff2015['surface_reelle_bati_sum']), list(dfaff2015['surface_terrain_sum']),\n",
    "                                 list(dfaff2015['mcarre2']))]"
   ]
  },
  {
   "cell_type": "code",
   "execution_count": null,
   "metadata": {},
   "outputs": [],
   "source": [
    "my_text3=['Commune : '+ co +\n",
    "         '<br>Valeur foncière : '+  '{:.0f}'.format(vf) +\n",
    "         '<br>Maison : '+ '{:.0f}'.format(ma) +\n",
    "         '<br>Appartement : '+ '{:.0f}'.format(ap) +\n",
    "         '<br>Dépendances : '+ '{:.0f}'.format(de) +\n",
    "         '<br>Local indus : '+ '{:.0f}'.format(lo) +\n",
    "         '<br>Terrain simple : '+ '{:.0f}'.format(te) +\n",
    "         '<br>Nombre pièces : '+  '{:.0f}'.format(np) +\n",
    "         '<br>Surface batiment : '+  '{:.0f}'.format(sb) + ' m²' +\n",
    "         '<br>Surface Terrain : '+  '{:.0f}'.format(st) + ' m²' +\n",
    "         '<br>prix m² : '+  '{:.0f}'.format(mc) +\n",
    "         '<br>Année : 2016 '\n",
    "         \n",
    "         \n",
    "  for co, vf, ma, ap, de, lo, te, np, sb, st, mc in zip(list(dfaff2016['nom_commune']), list(dfaff2016['valeur_fonciere']),\n",
    "                                 list(dfaff2016['Maison_sum']), list(dfaff2016['Appartement_sum']),\n",
    "                                 list(dfaff2016['Dépendance_sum']), list(dfaff2016['Local industriel. commercial ou assimilé_sum']),\n",
    "                                 list(dfaff2016['Terrain simple_sum']), list(dfaff2016['nombre_pieces_principales_sum']),\n",
    "                                 list(dfaff2016['surface_reelle_bati_sum']), list(dfaff2016['surface_terrain_sum']),\n",
    "                                 list(dfaff2016['mcarre2']))]\n"
   ]
  },
  {
   "cell_type": "code",
   "execution_count": null,
   "metadata": {},
   "outputs": [],
   "source": [
    "my_text4=['Commune : '+ co +\n",
    "         '<br>Valeur foncière : '+  '{:.0f}'.format(vf) +\n",
    "         '<br>Maison : '+ '{:.0f}'.format(ma) +\n",
    "         '<br>Appartement : '+ '{:.0f}'.format(ap) +\n",
    "         '<br>Dépendances : '+ '{:.0f}'.format(de) +\n",
    "         '<br>Local indus : '+ '{:.0f}'.format(lo) +\n",
    "         '<br>Terrain simple : '+ '{:.0f}'.format(te) +\n",
    "         '<br>Nombre pièces : '+  '{:.0f}'.format(np) +\n",
    "         '<br>Surface batiment : '+  '{:.0f}'.format(sb) + ' m²' +\n",
    "         '<br>Surface Terrain : '+  '{:.0f}'.format(st) + ' m²' +\n",
    "         '<br>prix m² : '+  '{:.0f}'.format(mc) +\n",
    "         '<br>Année : 2017 '\n",
    "         \n",
    "         \n",
    "  for co, vf, ma, ap, de, lo, te, np, sb, st, mc in zip(list(dfaff2017['nom_commune']), list(dfaff2017['valeur_fonciere']),\n",
    "                                 list(dfaff2017['Maison_sum']), list(dfaff2017['Appartement_sum']),\n",
    "                                 list(dfaff2017['Dépendance_sum']), list(dfaff2017['Local industriel. commercial ou assimilé_sum']),\n",
    "                                 list(dfaff2017['Terrain simple_sum']), list(dfaff2017['nombre_pieces_principales_sum']),\n",
    "                                 list(dfaff2017['surface_reelle_bati_sum']), list(dfaff2017['surface_terrain_sum']),\n",
    "                                 list(dfaff2017['mcarre2']))]\n"
   ]
  },
  {
   "cell_type": "code",
   "execution_count": null,
   "metadata": {},
   "outputs": [],
   "source": [
    "my_text5=['Commune : '+ co +\n",
    "         '<br>Valeur foncière : '+  '{:.0f}'.format(vf) +\n",
    "         '<br>Maison : '+ '{:.0f}'.format(ma) +\n",
    "         '<br>Appartement : '+ '{:.0f}'.format(ap) +\n",
    "         '<br>Dépendances : '+ '{:.0f}'.format(de) +\n",
    "         '<br>Local indus : '+ '{:.0f}'.format(lo) +\n",
    "         '<br>Terrain simple : '+ '{:.0f}'.format(te) +\n",
    "         '<br>Nombre pièces : '+  '{:.0f}'.format(np) +\n",
    "         '<br>Surface batiment : '+  '{:.0f}'.format(sb) + ' m²' +\n",
    "         '<br>Surface Terrain : '+  '{:.0f}'.format(st) + ' m²' +\n",
    "         '<br>prix m² : '+  '{:.0f}'.format(mc) +\n",
    "         '<br>Année : 2018 '\n",
    "         \n",
    "         \n",
    "  for co, vf, ma, ap, de, lo, te, np, sb, st, mc in zip(list(dfaff2018['nom_commune']), list(dfaff2018['valeur_fonciere']),\n",
    "                                 list(dfaff2018['Maison_sum']), list(dfaff2018['Appartement_sum']),\n",
    "                                 list(dfaff2018['Dépendance_sum']), list(dfaff2018['Local industriel. commercial ou assimilé_sum']),\n",
    "                                 list(dfaff2018['Terrain simple_sum']), list(dfaff2018['nombre_pieces_principales_sum']),\n",
    "                                 list(dfaff2018['surface_reelle_bati_sum']), list(dfaff2018['surface_terrain_sum']),\n",
    "                                 list(dfaff2018['mcarre2']))]"
   ]
  },
  {
   "cell_type": "code",
   "execution_count": null,
   "metadata": {},
   "outputs": [],
   "source": [
    "fig = go.Figure()\n",
    "\n",
    "\n",
    "\n",
    "fig.add_scattermapbox(lon=dfaff2014['longitude'],\n",
    "                lat=dfaff2014['latitude'],\n",
    "                mode='markers',\n",
    "                text=my_text1,\n",
    "                hoverinfo='text',\n",
    "                name = 'vf 2014',\n",
    "                hoverlabel={'bgcolor' : 'seashell'},\n",
    "                marker={\n",
    "                        'showscale': True,\n",
    "                        'cmax':13000,\n",
    "                        'cmin':0,\n",
    "                        'color': dfaff2014['mcarre2'],\n",
    "                        'opacity': 0.6,\n",
    "                        'colorscale': 'Rainbow',\n",
    "                        'reversescale' : False\n",
    "                       });\n",
    "\n",
    "fig.add_scattermapbox(lon=dfaff2015['longitude'],\n",
    "                lat=dfaff2015['latitude'],\n",
    "                mode='markers',\n",
    "                text=my_text2,\n",
    "                hoverinfo='text',\n",
    "                name = 'vf 2015',\n",
    "                hoverlabel={'bgcolor' : 'seashell'},\n",
    "                marker={\n",
    "                        'showscale': True,\n",
    "                        'cmax':13000,\n",
    "                        'cmin':0,\n",
    "                        'color': dfaff2015['mcarre2'],\n",
    "                        'opacity': 0.6,\n",
    "                        'colorscale': 'Rainbow',\n",
    "                        'reversescale' : False\n",
    "                       });\n",
    "\n",
    "fig.add_scattermapbox(lon=dfaff2016['longitude'],\n",
    "                lat=dfaff2016['latitude'],\n",
    "                mode='markers',\n",
    "                text=my_text3,\n",
    "                hoverinfo='text',\n",
    "                name = 'vf 2016',\n",
    "                hoverlabel={'bgcolor' : 'seashell'},\n",
    "                marker={\n",
    "                        'showscale': True,\n",
    "                        'cmax':13000,\n",
    "                        'cmin':0,\n",
    "                        'color': dfaff2016['mcarre2'],\n",
    "                        'opacity': 0.6,\n",
    "                        'colorscale': 'Rainbow',\n",
    "                        'reversescale' : False\n",
    "                       });\n",
    "\n",
    "fig.add_scattermapbox(lon=dfaff2017['longitude'],\n",
    "                lat=dfaff2017['latitude'],\n",
    "                mode='markers',\n",
    "                text=my_text4,\n",
    "                hoverinfo='text',\n",
    "                name = 'vf 2017',\n",
    "                hoverlabel={'bgcolor' : 'seashell'},\n",
    "                marker={\n",
    "                        'showscale': True,\n",
    "                        'cmax':13000,\n",
    "                        'cmin':0,\n",
    "                        'color': dfaff2017['mcarre2'],\n",
    "                        'opacity': 0.6,\n",
    "                        'colorscale': 'Rainbow',\n",
    "                        'reversescale' : False\n",
    "                       });\n",
    "\n",
    "fig.add_scattermapbox(lon=dfaff2018['longitude'],\n",
    "                lat=dfaff2018['latitude'],\n",
    "                mode='markers',\n",
    "                text=my_text5,\n",
    "                hoverinfo='text',\n",
    "                name = 'vf 2018',\n",
    "                hoverlabel={'bgcolor' : 'seashell'},\n",
    "                marker={\n",
    "                        'showscale': True,\n",
    "                        'cmax': 13000,\n",
    "                        'cmin': 0,\n",
    "                        'color': dfaff2018['mcarre2'],\n",
    "                        'opacity': 0.6,\n",
    "                        'colorscale': 'Rainbow',\n",
    "                        'reversescale' : False\n",
    "                       });\n",
    "\n",
    "\n",
    "fig.layout = dict(\n",
    "    title='Valeur foncière des batiments en France de 2014 à 2018',\n",
    "    width=1200,\n",
    "    height=650,\n",
    "         mapbox=go.layout.Mapbox(\n",
    "         accesstoken=mapbox_access_token,\n",
    "         bearing=0,\n",
    "         center=go.layout.mapbox.Center(\n",
    "             lat=48,\n",
    "             lon=2.5\n",
    "        ),\n",
    "         pitch=0,\n",
    "         zoom=6\n",
    "    ),\n",
    ")\n",
    "\n",
    "plotly.offline.plot(fig, filename='price_m2_batiment_CP_allYears_FR')\n"
   ]
  },
  {
   "cell_type": "code",
   "execution_count": null,
   "metadata": {},
   "outputs": [],
   "source": [
    "df.head()"
   ]
  },
  {
   "cell_type": "code",
   "execution_count": null,
   "metadata": {},
   "outputs": [],
   "source": [
    "df['longitude'] = df['longitude'].fillna(0)\n",
    "df['valeur_fonciere'] = df['valeur_fonciere'].fillna(0)"
   ]
  },
  {
   "cell_type": "code",
   "execution_count": null,
   "metadata": {},
   "outputs": [],
   "source": [
    "df = df.drop(df[df.longitude == 0].index)\n",
    "df = df.drop(df[df.valeur_fonciere < 1000 ].index)\n",
    "df = df.drop(df[df.valeur_fonciere > 5000000 ].index)"
   ]
  },
  {
   "cell_type": "code",
   "execution_count": null,
   "metadata": {},
   "outputs": [],
   "source": [
    "dfidf = dfidf.drop(dfidf[dfidf.longitude == 0].index)\n",
    "dfidf = dfidf.drop(dfidf[dfidf.valeur_fonciere < 10000 ].index)\n",
    "dfidf = dfidf.drop(dfidf[dfidf.valeur_fonciere > 4000000 ].index)"
   ]
  },
  {
   "cell_type": "code",
   "execution_count": null,
   "metadata": {},
   "outputs": [],
   "source": [
    "all_regions = dfidf['valeur_fonciere'].values\n",
    "gaussian_distribution = np.log(dfidf['valeur_fonciere'].values)\n",
    "\n",
    "overall_price_plot = go.Histogram(\n",
    "    x=all_regions,\n",
    "    histnorm='percent', \n",
    "    name='All Regions',\n",
    "    marker=dict(\n",
    "        color='#6E6E6E'\n",
    "    )\n",
    ")\n",
    "\n",
    "\n",
    "gaussian_distribution_plot = go.Histogram(\n",
    "    x=gaussian_distribution,\n",
    "    histnorm='percent',\n",
    "    name='Gaussian Distribution',\n",
    "    marker=dict(\n",
    "        color='#800000'\n",
    "    )\n",
    ")\n",
    "\n",
    "\n",
    "fig = tools.make_subplots(rows=2, cols=1, print_grid=False,\n",
    "                         subplot_titles=(\n",
    "                             'Overall Price Distribution',\n",
    "                             'Gaussian Distribution of Price'\n",
    "                             ))\n",
    "fig.append_trace(overall_price_plot, 1, 1)\n",
    "fig.append_trace(gaussian_distribution_plot, 2, 1)\n",
    "\n",
    "fig['layout'].update(showlegend=False, title=\"Price Distributions\",\n",
    "                    height=1200, width=800)\n",
    "plotly.offline.plot(fig, filename='price_distribution_idf_FR')"
   ]
  },
  {
   "cell_type": "code",
   "execution_count": null,
   "metadata": {},
   "outputs": [],
   "source": []
  },
  {
   "cell_type": "code",
   "execution_count": null,
   "metadata": {},
   "outputs": [],
   "source": [
    "df.head()"
   ]
  },
  {
   "cell_type": "code",
   "execution_count": null,
   "metadata": {},
   "outputs": [],
   "source": [
    "from sklearn.preprocessing import StandardScaler  \n",
    "from scipy import stats\n",
    "from sklearn.cluster import KMeans\n",
    "from sklearn import preprocessing"
   ]
  },
  {
   "cell_type": "code",
   "execution_count": null,
   "metadata": {},
   "outputs": [],
   "source": [
    "dflite = df.sample(frac=0.05)"
   ]
  },
  {
   "cell_type": "code",
   "execution_count": null,
   "metadata": {},
   "outputs": [],
   "source": [
    "#df_imp_LOLA=dflite[['code_type_local', 'valeur_fonciere']]\n",
    "df_imp_CTLVF=dflite[['old_nbr_id_ligne', 'valeur_fonciere']]"
   ]
  },
  {
   "cell_type": "code",
   "execution_count": null,
   "metadata": {},
   "outputs": [],
   "source": [
    "x = df_imp_CTLVF #returns a numpy array\n",
    "min_max_scaler = preprocessing.MinMaxScaler()\n",
    "x_scaled = min_max_scaler.fit_transform(x)\n",
    "dfk3 = pd.DataFrame(x_scaled)"
   ]
  },
  {
   "cell_type": "code",
   "execution_count": null,
   "metadata": {},
   "outputs": [],
   "source": [
    "# Choosing the optimal k\n",
    "from scipy.spatial.distance import cdist, pdist\n",
    "\n",
    "k_range = range(1,10)\n",
    "# Try clustering the data for k values ranging 1 to 10\n",
    "k_means_var = [KMeans(n_clusters = k).fit(dfk3) for k in k_range]\n",
    "centroids = [X.cluster_centers_ for X in k_means_var]\n",
    "\n",
    "k_euclid = [cdist(dfk3, cent, 'euclidean') for cent in centroids]\n",
    "dist = [np.min(ke, axis=1) for ke in k_euclid]\n",
    "\n",
    "# Calculate within-cluster sum of squares\n",
    "wcss = [sum(d**2) for d in dist]\n",
    "\n",
    "# Visualize the elbow method for determining k\n",
    "import matplotlib.pyplot as plt\n",
    "plt.plot(k_range, wcss)\n",
    "plt.xlabel('Range of k')\n",
    "plt.ylabel('RSS within cluster')\n",
    "plt.title('Elbow plot of room V/S Building Area')\n",
    "plt.savefig('Elbow_5')\n",
    "plt.show()"
   ]
  },
  {
   "cell_type": "code",
   "execution_count": null,
   "metadata": {},
   "outputs": [],
   "source": [
    "kmeans = KMeans(n_clusters=9, random_state=0).fit(dfk3)\n",
    "labels = kmeans.labels_\n",
    "#Glue back to originaal data\n",
    "dfk3['clusters'] = labels\n",
    "dfk2 = dfk3.rename(columns = {0 : 'old_nbr_id_ligne', 1: 'valeur_fonciere'})\n"
   ]
  },
  {
   "cell_type": "code",
   "execution_count": null,
   "metadata": {},
   "outputs": [],
   "source": [
    "sns.lmplot('old_nbr_id_ligne', 'valeur_fonciere', data = dfk2, fit_reg=False, hue=\"clusters\",  scatter_kws={\"marker\": \"D\", \"s\": 100}, size=15)\n",
    "plt.title('code_type_local v/s valeur_fonciere')\n",
    "plt.xlabel('old_nbr_id_ligne')\n",
    "plt.ylabel('valeur_fonciere')\n",
    "plt.savefig('cluster_ONIL_VF_FR.png')\n",
    "plt.show()"
   ]
  },
  {
   "cell_type": "code",
   "execution_count": null,
   "metadata": {},
   "outputs": [],
   "source": [
    "dflite.old_nbr_id_ligne.max()"
   ]
  },
  {
   "cell_type": "markdown",
   "metadata": {},
   "source": [
    "# Feature selection"
   ]
  },
  {
   "cell_type": "code",
   "execution_count": null,
   "metadata": {},
   "outputs": [],
   "source": [
    "from sklearn.feature_selection import SelectKBest, f_regression"
   ]
  },
  {
   "cell_type": "code",
   "execution_count": null,
   "metadata": {},
   "outputs": [],
   "source": [
    "df[df[\"sols_sum\"]>1].head()"
   ]
  },
  {
   "cell_type": "code",
   "execution_count": null,
   "metadata": {},
   "outputs": [],
   "source": [
    "df['nature_mutation2'] = df[\"nature_mutation\"].factorize()[0]"
   ]
  },
  {
   "cell_type": "code",
   "execution_count": null,
   "metadata": {},
   "outputs": [],
   "source": [
    "df = df.drop('value_terrain', axis=1)"
   ]
  },
  {
   "cell_type": "code",
   "execution_count": null,
   "metadata": {},
   "outputs": [],
   "source": [
    "verdure = [\"bois_sum\", \"carrières_sum\", \"chemin de fer_sum\", \"eaux_sum\", \"futaies feuillues_sum\",\n",
    "      \"futaies mixtes_sum\", \"futaies résineuses_sum\", \"herbages_sum\", \"landes_sum\", \"landes boisées_sum\",\n",
    "      \"oseraies_sum\", \"pacages_sum\", \"peupleraies_sum\", \"prés_sum\", \"prés d'embouche_sum\", \"prés plantes_sum\", \"pâtures_sum\",\n",
    "      \"taillis simples_sum\", \"taillis sous futaie_sum\", \"terrains a bâtir_sum\", \"terrains d'agrément_sum\", \n",
    "      \"terres_sum\", \"terres plantées_sum\", \"vergers_sum\", \"vignes_sum\"]"
   ]
  },
  {
   "cell_type": "code",
   "execution_count": null,
   "metadata": {},
   "outputs": [],
   "source": [
    "def terrain(line):\n",
    "    sommeverdure = 0\n",
    "    for att in verdure:\n",
    "        sommeverdure += line[att]\n",
    "    return sommeverdure"
   ]
  },
  {
   "cell_type": "code",
   "execution_count": null,
   "metadata": {},
   "outputs": [],
   "source": [
    "df['autre_terrain_sum'] = df.apply(terrain, axis=1)"
   ]
  },
  {
   "cell_type": "code",
   "execution_count": null,
   "metadata": {
    "scrolled": true
   },
   "outputs": [],
   "source": [
    "df[(df[\"terrains a bâtir_sum\"]>0)&(df[\"sols_sum\"]>0)].head()"
   ]
  },
  {
   "cell_type": "code",
   "execution_count": null,
   "metadata": {},
   "outputs": [],
   "source": [
    "tempo = dfidf[[\"nature_mutation2\", \"code_postal\", \"longitude\", \"latitude\", \"sans_terrain\", \"nombre_lots_sum\", \"surface_reelle_bati_sum\",\n",
    "      \"surface_terrain_sum\", \"nombre_pieces_principales_sum\", \"Appartement_sum\", \"Dépendance_sum\", \"Local industriel. commercial ou assimilé_sum\",\n",
    "      \"Maison_sum\", \"Terrain simple_sum\", \"sols_sum\", \"jardins_sum\", \"autre_terrain_sum\", \"old_nbr_id_ligne\",\n",
    "      \"Month\", \"Year\", \"valeur_fonciere\"]]"
   ]
  },
  {
   "cell_type": "code",
   "execution_count": null,
   "metadata": {},
   "outputs": [],
   "source": [
    "tempo = tempo.drop(tempo[tempo.valeur_fonciere < 2].index)\n",
    "tempo = tempo.drop(tempo[tempo.valeur_fonciere > 5000000].index)"
   ]
  },
  {
   "cell_type": "code",
   "execution_count": null,
   "metadata": {},
   "outputs": [],
   "source": [
    "tempo2 = tempo.sample(frac=0.5)"
   ]
  },
  {
   "cell_type": "code",
   "execution_count": null,
   "metadata": {},
   "outputs": [],
   "source": [
    "len(df)"
   ]
  },
  {
   "cell_type": "code",
   "execution_count": null,
   "metadata": {},
   "outputs": [],
   "source": [
    "X = tempo2.drop(\"valeur_fonciere\", axis = 1)"
   ]
  },
  {
   "cell_type": "code",
   "execution_count": null,
   "metadata": {},
   "outputs": [],
   "source": [
    "y = tempo2['valeur_fonciere']"
   ]
  },
  {
   "cell_type": "code",
   "execution_count": null,
   "metadata": {},
   "outputs": [],
   "source": [
    "selkbest = SelectKBest(f_regression, k=10)"
   ]
  },
  {
   "cell_type": "code",
   "execution_count": null,
   "metadata": {},
   "outputs": [],
   "source": [
    "skbfit = selkbest.fit(X, y)"
   ]
  },
  {
   "cell_type": "code",
   "execution_count": null,
   "metadata": {},
   "outputs": [],
   "source": [
    "print(skbfit.scores_)"
   ]
  },
  {
   "cell_type": "code",
   "execution_count": null,
   "metadata": {},
   "outputs": [],
   "source": [
    "indice = np.argsort(skbfit.scores_)[::-1]"
   ]
  },
  {
   "cell_type": "code",
   "execution_count": null,
   "metadata": {},
   "outputs": [],
   "source": [
    "indices = np.argsort(indice)"
   ]
  },
  {
   "cell_type": "code",
   "execution_count": null,
   "metadata": {},
   "outputs": [],
   "source": [
    "indices = indices[np.logical_not(np.isnan(indices))]"
   ]
  },
  {
   "cell_type": "code",
   "execution_count": null,
   "metadata": {},
   "outputs": [],
   "source": [
    "labels = []\n",
    "for i in range(len(X.columns)):\n",
    "    labels.append(X.columns[indices[i]])\n",
    "\n",
    "    \n",
    "\n",
    "\n",
    "\n",
    "plt.figure(figsize=(20,15))\n",
    "plt.bar(labels, skbfit.scores_[indices] )\n",
    "\n",
    "plt.show()"
   ]
  },
  {
   "cell_type": "code",
   "execution_count": null,
   "metadata": {},
   "outputs": [],
   "source": [
    "dfplot = pd.DataFrame([list(skbfit.scores_[indices])], columns=labels).T"
   ]
  },
  {
   "cell_type": "code",
   "execution_count": null,
   "metadata": {},
   "outputs": [],
   "source": [
    "dfplot.sort_values(by=0, ascending=False)"
   ]
  },
  {
   "cell_type": "code",
   "execution_count": null,
   "metadata": {},
   "outputs": [],
   "source": [
    "from sklearn.feature_selection import RFE"
   ]
  },
  {
   "cell_type": "code",
   "execution_count": null,
   "metadata": {},
   "outputs": [],
   "source": [
    "rf = RandomForestRegressor(bootstrap= False,\n",
    " max_depth = 110,\n",
    " max_features = 'sqrt',\n",
    " min_samples_leaf = 4,\n",
    " min_samples_split = 4,\n",
    " n_estimators = 600)"
   ]
  },
  {
   "cell_type": "code",
   "execution_count": null,
   "metadata": {},
   "outputs": [],
   "source": [
    "rfe = RFE(rf, 1)\n",
    "fite = rfe.fit(X, y)"
   ]
  },
  {
   "cell_type": "code",
   "execution_count": null,
   "metadata": {},
   "outputs": [],
   "source": [
    "print(\"Num Features: %d\"% fite.n_features_) \n",
    "print(\"Selected Features: %s\"% fite.support_)\n",
    "print(\"Feature Ranking: %s\"% fite.ranking_)\n"
   ]
  },
  {
   "cell_type": "code",
   "execution_count": null,
   "metadata": {},
   "outputs": [],
   "source": [
    "dfplot2 = pd.DataFrame([list(fite.ranking_)], columns=X.columns).T"
   ]
  },
  {
   "cell_type": "code",
   "execution_count": null,
   "metadata": {},
   "outputs": [],
   "source": [
    "dfplot2.head()"
   ]
  },
  {
   "cell_type": "code",
   "execution_count": null,
   "metadata": {
    "scrolled": true
   },
   "outputs": [],
   "source": [
    "dfplot2.sort_values(by=0, ascending=True)"
   ]
  },
  {
   "cell_type": "code",
   "execution_count": null,
   "metadata": {
    "scrolled": true
   },
   "outputs": [],
   "source": [
    "dfplot.sort_values(by=0, ascending=False)"
   ]
  },
  {
   "cell_type": "markdown",
   "metadata": {},
   "source": [
    "# début features importances (model based)"
   ]
  },
  {
   "cell_type": "code",
   "execution_count": null,
   "metadata": {},
   "outputs": [],
   "source": [
    "X_train, X_test, y_train, y_test = train_test_split(X, y, test_size = 0.25)"
   ]
  },
  {
   "cell_type": "code",
   "execution_count": null,
   "metadata": {},
   "outputs": [],
   "source": []
  },
  {
   "cell_type": "code",
   "execution_count": null,
   "metadata": {},
   "outputs": [],
   "source": [
    "rf = RandomForestRegressor(bootstrap= False,\n",
    " max_depth = 110,\n",
    " max_features = 'sqrt',\n",
    " min_samples_leaf = 4,\n",
    " min_samples_split = 4,\n",
    " n_estimators = 600)\n",
    "regr = linear_model.LinearRegression()\n",
    "gam = LinearGAM()\n",
    "etr = ExtraTreesRegressor()"
   ]
  },
  {
   "cell_type": "code",
   "execution_count": null,
   "metadata": {},
   "outputs": [],
   "source": []
  },
  {
   "cell_type": "code",
   "execution_count": null,
   "metadata": {},
   "outputs": [],
   "source": [
    "model = rf.fit(X_train, y_train)"
   ]
  },
  {
   "cell_type": "code",
   "execution_count": null,
   "metadata": {},
   "outputs": [],
   "source": [
    "regr.fit(X_train, y_train)"
   ]
  },
  {
   "cell_type": "code",
   "execution_count": null,
   "metadata": {},
   "outputs": [],
   "source": [
    "gam.fit(X_train, y_train)"
   ]
  },
  {
   "cell_type": "code",
   "execution_count": null,
   "metadata": {},
   "outputs": [],
   "source": [
    "etr.fit(X_train, y_train)"
   ]
  },
  {
   "cell_type": "code",
   "execution_count": null,
   "metadata": {
    "scrolled": true
   },
   "outputs": [],
   "source": [
    "impvar = pd.DataFrame({'Variable':X.columns,\n",
    "'Importance':rf.feature_importances_}, index=X.columns).sort_values('Importance', ascending=False)\n",
    "impvar"
   ]
  },
  {
   "cell_type": "code",
   "execution_count": null,
   "metadata": {},
   "outputs": [],
   "source": [
    "impvar.sort_values(by=\"Importance\").plot(kind='barh', color='r', figsize=(15,15), legend=False)\n",
    "#plt.yticks(range(impvar), impvar.Variable)\n",
    "plt.show()"
   ]
  },
  {
   "cell_type": "code",
   "execution_count": null,
   "metadata": {
    "scrolled": true
   },
   "outputs": [],
   "source": [
    "impvaretr = pd.DataFrame({'Variable':X.columns,\n",
    "'Importance':etr.feature_importances_}, index=X.columns).sort_values('Importance', ascending=False)\n",
    "impvaretr"
   ]
  },
  {
   "cell_type": "code",
   "execution_count": null,
   "metadata": {},
   "outputs": [],
   "source": [
    "impvaretr.sort_values(by=\"Importance\").plot(kind='barh', color='r', figsize=(15,15), legend=False)\n",
    "#plt.yticks(range(impvar), impvar.Variable)\n",
    "plt.show()"
   ]
  },
  {
   "cell_type": "markdown",
   "metadata": {},
   "source": [
    "# début des metrics des modèles"
   ]
  },
  {
   "cell_type": "code",
   "execution_count": null,
   "metadata": {},
   "outputs": [],
   "source": [
    "from sklearn.metrics import mean_absolute_error\n",
    "from sklearn.metrics import r2_score"
   ]
  },
  {
   "cell_type": "code",
   "execution_count": null,
   "metadata": {},
   "outputs": [],
   "source": [
    "predictions = rf.predict(X_test)\n",
    "trainpred = rf.predict(X_train)\n",
    "\n",
    "lin_predictions = regr.predict(X_test)\n",
    "lin_trainpred = regr.predict(X_train)\n",
    "\n",
    "gam_predictions = gam.predict(X_test)\n",
    "gam_trainpred = gam.predict(X_train)\n",
    "\n",
    "etr_predictions = etr.predict(X_test)\n",
    "etr_trainpred = etr.predict(X_train)\n",
    "\n",
    "#cv_predictions = best_grid.predict(X_test)\n",
    "#cv_trainpred = best_grid.predict(X_train)\n",
    "\n",
    "# Calculate the absolute errors\n",
    "print(np.sqrt(mean_squared_error(y_test, predictions)))\n",
    "print(np.sqrt(mean_absolute_error(y_test, predictions)))\n",
    "print(np.mean(np.abs((y_train - trainpred) / y_train)) * 100)\n",
    "print(np.mean(np.abs((y_test - predictions) / y_test)) * 100)\n",
    "#print(r2_score(y_train, trainpred, multioutput='variance_weighted'))\n",
    "#print(r2_score(y_test, predictions, multioutput='variance_weighted'))\n",
    "\n",
    "\n",
    "print(np.sqrt(mean_squared_error(y_test, lin_predictions)))\n",
    "print(np.mean(np.abs((y_train - lin_trainpred) / y_train)) * 100)\n",
    "print(np.mean(np.abs((y_test - lin_predictions) / y_test)) * 100)\n",
    "#print(r2_score(y_test, lin_predictions, multioutput='variance_weighted'))\n",
    "\n",
    "\n",
    "print(np.sqrt(mean_squared_error(y_test, gam_predictions)))\n",
    "print(np.mean(np.abs((y_train - gam_trainpred) / y_train)) * 100)\n",
    "print(np.mean(np.abs((y_test - gam_predictions) / y_test)) * 100)\n",
    "#print(r2_score(y_test, gam_predictions, multioutput='variance_weighted'))\n",
    "\n",
    "\n",
    "print(np.sqrt(mean_squared_error(y_test, etr_predictions)))\n",
    "print(np.mean(np.abs((y_train - etr_trainpred) / y_train)) * 100)\n",
    "print(np.mean(np.abs((y_test - etr_predictions) / y_test)) * 100)\n",
    "#print(r2_score(y_test, etr_predictions, multioutput='variance_weighted'))\n",
    "\n",
    "\n",
    "#print(np.sqrt(mean_squared_error(y_test, cv_predictions)))\n",
    "#print(np.mean(np.abs((y_train - cv_trainpred) / y_train)) * 100)\n",
    "#print(np.mean(np.abs((y_test - cv_predictions) / y_test)) * 100)"
   ]
  },
  {
   "cell_type": "code",
   "execution_count": null,
   "metadata": {},
   "outputs": [],
   "source": [
    "print(\"Random Forest RMSE : \" + str(np.sqrt(mean_squared_error(y_test, predictions))))\n",
    "print(\"Random Forest MAE : \" + str(np.sqrt(mean_absolute_error(y_test, predictions))))\n",
    "print(\"Random Forest MAPE : \" + str(np.mean(np.abs((y_test - predictions) / y_test)) * 100))\n",
    "print(\"Random Forest R^2 : \" + str(r2_score(y_test, predictions, multioutput='variance_weighted')))"
   ]
  },
  {
   "cell_type": "code",
   "execution_count": null,
   "metadata": {},
   "outputs": [],
   "source": [
    "#plot between predicted values and residuals\n",
    "plt.scatter(trainpred, trainpred - y_train, c = \"blue\",  label = \"Residuals Prediction Training\")\n",
    "plt.scatter(predictions,predictions - y_test, c = \"black\",  label = \"Residuals Prediction Validation\")\n",
    "plt.title(\"Random Forest\")\n",
    "plt.xlabel(\"Predicted values\")\n",
    "plt.ylabel(\"Residuals\")\n",
    "plt.legend(loc = \"upper left\")\n",
    "plt.hlines(y = 0, xmin = -1000000, xmax = 7000000, color = \"red\")\n",
    "plt.vlines(x = 0, ymin = -4000000, ymax = 7000000, color = \"red\")\n",
    "#plt.plot([-1000000, 7000000], [-1300000, 5000000], c = \"red\")\n",
    "#plt.xlim([-50000,3000000])\n",
    "#plt.ylim([-5000000,5000000])\n",
    "plt.show()"
   ]
  },
  {
   "cell_type": "code",
   "execution_count": null,
   "metadata": {},
   "outputs": [],
   "source": [
    "#plot between predicted values and residuals\n",
    "plt.scatter(lin_trainpred, lin_trainpred - y_train, c = \"blue\",  label = \"Training prediction residuals\")\n",
    "plt.scatter(lin_predictions,lin_predictions - y_test, c = \"black\",  label = \"Test prediction residuals\")\n",
    "plt.title(\"Linear regression\")\n",
    "plt.xlabel(\"Predicted values\")\n",
    "plt.ylabel(\"Residuals\")\n",
    "plt.legend(loc = \"upper left\")\n",
    "plt.hlines(y = 0, xmin = -1000000, xmax = 7000000, color = \"red\")\n",
    "plt.vlines(x = 0, ymin = -7000000, ymax = 7000000, color = \"red\")\n",
    "#plt.plot([-1000000, 7000000], [-1300000, 5000000], c = \"red\")\n",
    "plt.show()"
   ]
  },
  {
   "cell_type": "code",
   "execution_count": null,
   "metadata": {},
   "outputs": [],
   "source": [
    "plt.figure(figsize=(16,12))\n",
    "plt.bar(\n",
    "    range(len(y_test)),\n",
    "    height=y_test,\n",
    "    width= 1,\n",
    "    label=\"True Values\",\n",
    "    color='red'\n",
    ")\n",
    "plt.bar(\n",
    "    range(len(predictions)),\n",
    "    predictions,\n",
    "    width=1,\n",
    "    label=\"Predicted values\",\n",
    "    color='blue'\n",
    ")\n",
    "\n",
    "plt.title(\"Random Forest\")\n",
    "plt.legend()\n",
    "plt.show()"
   ]
  },
  {
   "cell_type": "code",
   "execution_count": null,
   "metadata": {},
   "outputs": [],
   "source": [
    "X.head()"
   ]
  },
  {
   "cell_type": "code",
   "execution_count": null,
   "metadata": {},
   "outputs": [],
   "source": [
    "df[df[\"code_nature_culture\"]!='N'].head(1)"
   ]
  },
  {
   "cell_type": "code",
   "execution_count": null,
   "metadata": {},
   "outputs": [],
   "source": []
  },
  {
   "cell_type": "code",
   "execution_count": null,
   "metadata": {},
   "outputs": [],
   "source": []
  }
 ],
 "metadata": {
  "kernelspec": {
   "display_name": "Python 3",
   "language": "python",
   "name": "python3"
  },
  "language_info": {
   "codemirror_mode": {
    "name": "ipython",
    "version": 3
   },
   "file_extension": ".py",
   "mimetype": "text/x-python",
   "name": "python",
   "nbconvert_exporter": "python",
   "pygments_lexer": "ipython3",
   "version": "3.7.6"
  }
 },
 "nbformat": 4,
 "nbformat_minor": 2
}
